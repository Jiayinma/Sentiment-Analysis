{
 "cells": [
  {
   "cell_type": "markdown",
   "metadata": {},
   "source": [
    "# Amazon Review Sentiment Analysis  \n",
    "BAX 453 Final Project  \n",
    "\n",
    "By Daria Zhan, Jiayin Ma, Kemal Yilmaz, Yanan Liu    \n",
    "<br>\n",
    "### Content:  \n",
    "1. Problem Statement  \n",
    "2. Data Preprocessing  \n",
    "3. Exploratory Data Analysis  \n",
    "4. Sentiment Analysis  \n",
    "    - Word Cloud  \n",
    "    - Classification Models  \n",
    "    - Text Clustering  "
   ]
  },
  {
   "cell_type": "markdown",
   "metadata": {},
   "source": [
    "## Project Overview \n",
    "\n",
    "- Leverage the review information to understand what cunstomers care about and how they evaluate a product.\n",
    "- Provide recommendation for manufacturers to improve their products.  \n",
    "\n",
    "<img width=\"733\" alt=\"business question\" src=\"https://user-images.githubusercontent.com/33208955/40760718-f001f190-644c-11e8-84fc-6bf1aedcbbdd.png\">\n"
   ]
  },
  {
   "cell_type": "markdown",
   "metadata": {},
   "source": [
    "#### Import packages"
   ]
  },
  {
   "cell_type": "code",
   "execution_count": 10,
   "metadata": {
    "collapsed": true
   },
   "outputs": [],
   "source": [
    "import json\n",
    "import numpy as np\n",
    "import pandas as pd\n",
    "import nltk\n",
    "from nltk.corpus import stopwords\n",
    "from textblob import Word\n",
    "from textblob import TextBlob\n",
    "from sklearn.model_selection import train_test_split\n",
    "from sklearn.feature_extraction.text import TfidfVectorizer\n",
    "from sklearn.naive_bayes import MultinomialNB\n",
    "from sklearn.metrics import accuracy_score, f1_score, precision_score, recall_score, confusion_matrix, mean_squared_error, r2_score\n",
    "from sklearn import linear_model\n",
    "from sklearn.linear_model import LinearRegression, LogisticRegression\n",
    "import itertools\n",
    "from sklearn.decomposition import LatentDirichletAllocation, NMF\n",
    "from sklearn.neural_network import BernoulliRBM\n",
    "from sklearn.pipeline import Pipeline\n",
    "from sklearn.svm import SVC\n",
    "\n",
    "# visualization\n",
    "import matplotlib as mpl\n",
    "import matplotlib.pyplot as plt\n",
    "import matplotlib.pylab as pylab\n",
    "from matplotlib import gridspec\n",
    "import seaborn as sns\n",
    "import wordcloud as wc\n",
    "%matplotlib inline\n",
    "\n",
    "import warnings\n",
    "warnings.filterwarnings('ignore')"
   ]
  },
  {
   "cell_type": "code",
   "execution_count": 3,
   "metadata": {
    "collapsed": true
   },
   "outputs": [],
   "source": [
    "# convert json file into dataframe\n",
    "df = pd.read_json(\"reviews_Health_and_Personal_Care_5.json\", lines=True)"
   ]
  },
  {
   "cell_type": "code",
   "execution_count": 4,
   "metadata": {
    "collapsed": true
   },
   "outputs": [],
   "source": [
    "# reorder the columns\n",
    "df = df[['reviewerID', 'asin', 'reviewerName', 'helpful', 'reviewText', 'overall', 'summary', 'reviewTime', 'unixReviewTime']]"
   ]
  },
  {
   "cell_type": "code",
   "execution_count": 5,
   "metadata": {},
   "outputs": [
    {
     "data": {
      "text/html": [
       "<div>\n",
       "<style scoped>\n",
       "    .dataframe tbody tr th:only-of-type {\n",
       "        vertical-align: middle;\n",
       "    }\n",
       "\n",
       "    .dataframe tbody tr th {\n",
       "        vertical-align: top;\n",
       "    }\n",
       "\n",
       "    .dataframe thead th {\n",
       "        text-align: right;\n",
       "    }\n",
       "</style>\n",
       "<table border=\"1\" class=\"dataframe\">\n",
       "  <thead>\n",
       "    <tr style=\"text-align: right;\">\n",
       "      <th></th>\n",
       "      <th>reviewerID</th>\n",
       "      <th>asin</th>\n",
       "      <th>reviewerName</th>\n",
       "      <th>helpful</th>\n",
       "      <th>reviewText</th>\n",
       "      <th>overall</th>\n",
       "      <th>summary</th>\n",
       "      <th>reviewTime</th>\n",
       "      <th>unixReviewTime</th>\n",
       "    </tr>\n",
       "  </thead>\n",
       "  <tbody>\n",
       "    <tr>\n",
       "      <th>0</th>\n",
       "      <td>ALC5GH8CAMAI7</td>\n",
       "      <td>159985130X</td>\n",
       "      <td>AnnN</td>\n",
       "      <td>[1, 1]</td>\n",
       "      <td>This is a great little gadget to have around. ...</td>\n",
       "      <td>5</td>\n",
       "      <td>Handy little gadget</td>\n",
       "      <td>01 5, 2011</td>\n",
       "      <td>1294185600</td>\n",
       "    </tr>\n",
       "    <tr>\n",
       "      <th>1</th>\n",
       "      <td>AHKSURW85PJUE</td>\n",
       "      <td>159985130X</td>\n",
       "      <td>AZ buyer \"AZ buyer\"</td>\n",
       "      <td>[1, 1]</td>\n",
       "      <td>I would recommend this for a travel magnifier ...</td>\n",
       "      <td>4</td>\n",
       "      <td>Small &amp; may need to encourage battery</td>\n",
       "      <td>02 18, 2012</td>\n",
       "      <td>1329523200</td>\n",
       "    </tr>\n",
       "    <tr>\n",
       "      <th>2</th>\n",
       "      <td>A38RMU1Y5TDP9</td>\n",
       "      <td>159985130X</td>\n",
       "      <td>Bob Tobias \"Robert Tobias\"</td>\n",
       "      <td>[75, 77]</td>\n",
       "      <td>What I liked was the quality of the lens and t...</td>\n",
       "      <td>4</td>\n",
       "      <td>Very good but not great</td>\n",
       "      <td>06 8, 2010</td>\n",
       "      <td>1275955200</td>\n",
       "    </tr>\n",
       "    <tr>\n",
       "      <th>3</th>\n",
       "      <td>A1XZUG7DFXXOS4</td>\n",
       "      <td>159985130X</td>\n",
       "      <td>Cat lover</td>\n",
       "      <td>[56, 60]</td>\n",
       "      <td>Love the Great point light pocket magnifier!  ...</td>\n",
       "      <td>4</td>\n",
       "      <td>great addition to your purse</td>\n",
       "      <td>02 8, 2008</td>\n",
       "      <td>1202428800</td>\n",
       "    </tr>\n",
       "    <tr>\n",
       "      <th>4</th>\n",
       "      <td>A1MS3M7M7AM13X</td>\n",
       "      <td>159985130X</td>\n",
       "      <td>Cricketoes</td>\n",
       "      <td>[1, 1]</td>\n",
       "      <td>This is very nice. You pull out on the magnifi...</td>\n",
       "      <td>5</td>\n",
       "      <td>Very nice and convenient.</td>\n",
       "      <td>08 16, 2011</td>\n",
       "      <td>1313452800</td>\n",
       "    </tr>\n",
       "  </tbody>\n",
       "</table>\n",
       "</div>"
      ],
      "text/plain": [
       "       reviewerID        asin                reviewerName   helpful  \\\n",
       "0   ALC5GH8CAMAI7  159985130X                        AnnN    [1, 1]   \n",
       "1   AHKSURW85PJUE  159985130X         AZ buyer \"AZ buyer\"    [1, 1]   \n",
       "2   A38RMU1Y5TDP9  159985130X  Bob Tobias \"Robert Tobias\"  [75, 77]   \n",
       "3  A1XZUG7DFXXOS4  159985130X                   Cat lover  [56, 60]   \n",
       "4  A1MS3M7M7AM13X  159985130X                  Cricketoes    [1, 1]   \n",
       "\n",
       "                                          reviewText  overall  \\\n",
       "0  This is a great little gadget to have around. ...        5   \n",
       "1  I would recommend this for a travel magnifier ...        4   \n",
       "2  What I liked was the quality of the lens and t...        4   \n",
       "3  Love the Great point light pocket magnifier!  ...        4   \n",
       "4  This is very nice. You pull out on the magnifi...        5   \n",
       "\n",
       "                                 summary   reviewTime  unixReviewTime  \n",
       "0                    Handy little gadget   01 5, 2011      1294185600  \n",
       "1  Small & may need to encourage battery  02 18, 2012      1329523200  \n",
       "2                Very good but not great   06 8, 2010      1275955200  \n",
       "3           great addition to your purse   02 8, 2008      1202428800  \n",
       "4              Very nice and convenient.  08 16, 2011      1313452800  "
      ]
     },
     "execution_count": 5,
     "metadata": {},
     "output_type": "execute_result"
    }
   ],
   "source": [
    "df.head()"
   ]
  },
  {
   "cell_type": "code",
   "execution_count": 6,
   "metadata": {},
   "outputs": [
    {
     "name": "stdout",
     "output_type": "stream",
     "text": [
      "<class 'pandas.core.frame.DataFrame'>\n",
      "Int64Index: 346355 entries, 0 to 346354\n",
      "Data columns (total 9 columns):\n",
      "reviewerID        346355 non-null object\n",
      "asin              346355 non-null object\n",
      "reviewerName      343304 non-null object\n",
      "helpful           346355 non-null object\n",
      "reviewText        346355 non-null object\n",
      "overall           346355 non-null int64\n",
      "summary           346355 non-null object\n",
      "reviewTime        346355 non-null object\n",
      "unixReviewTime    346355 non-null int64\n",
      "dtypes: int64(2), object(7)\n",
      "memory usage: 26.4+ MB\n"
     ]
    }
   ],
   "source": [
    "df.info()\n",
    "# 1.5% missing data in reviewerName"
   ]
  },
  {
   "cell_type": "markdown",
   "metadata": {},
   "source": [
    "## Data Preprocessing  "
   ]
  },
  {
   "cell_type": "code",
   "execution_count": 72,
   "metadata": {
    "collapsed": true
   },
   "outputs": [],
   "source": [
    "df_new = df[:80000]"
   ]
  },
  {
   "cell_type": "code",
   "execution_count": 73,
   "metadata": {},
   "outputs": [
    {
     "data": {
      "text/html": [
       "<div>\n",
       "<style scoped>\n",
       "    .dataframe tbody tr th:only-of-type {\n",
       "        vertical-align: middle;\n",
       "    }\n",
       "\n",
       "    .dataframe tbody tr th {\n",
       "        vertical-align: top;\n",
       "    }\n",
       "\n",
       "    .dataframe thead th {\n",
       "        text-align: right;\n",
       "    }\n",
       "</style>\n",
       "<table border=\"1\" class=\"dataframe\">\n",
       "  <thead>\n",
       "    <tr style=\"text-align: right;\">\n",
       "      <th></th>\n",
       "      <th>reviewerID</th>\n",
       "      <th>asin</th>\n",
       "      <th>reviewerName</th>\n",
       "      <th>helpful</th>\n",
       "      <th>reviewText</th>\n",
       "      <th>overall</th>\n",
       "      <th>summary</th>\n",
       "      <th>reviewTime</th>\n",
       "      <th>unixReviewTime</th>\n",
       "    </tr>\n",
       "  </thead>\n",
       "  <tbody>\n",
       "    <tr>\n",
       "      <th>0</th>\n",
       "      <td>ALC5GH8CAMAI7</td>\n",
       "      <td>159985130X</td>\n",
       "      <td>AnnN</td>\n",
       "      <td>[1, 1]</td>\n",
       "      <td>This is a great little gadget to have around. ...</td>\n",
       "      <td>5</td>\n",
       "      <td>Handy little gadget</td>\n",
       "      <td>01 5, 2011</td>\n",
       "      <td>1294185600</td>\n",
       "    </tr>\n",
       "    <tr>\n",
       "      <th>1</th>\n",
       "      <td>AHKSURW85PJUE</td>\n",
       "      <td>159985130X</td>\n",
       "      <td>AZ buyer \"AZ buyer\"</td>\n",
       "      <td>[1, 1]</td>\n",
       "      <td>I would recommend this for a travel magnifier ...</td>\n",
       "      <td>4</td>\n",
       "      <td>Small &amp; may need to encourage battery</td>\n",
       "      <td>02 18, 2012</td>\n",
       "      <td>1329523200</td>\n",
       "    </tr>\n",
       "    <tr>\n",
       "      <th>2</th>\n",
       "      <td>A38RMU1Y5TDP9</td>\n",
       "      <td>159985130X</td>\n",
       "      <td>Bob Tobias \"Robert Tobias\"</td>\n",
       "      <td>[75, 77]</td>\n",
       "      <td>What I liked was the quality of the lens and t...</td>\n",
       "      <td>4</td>\n",
       "      <td>Very good but not great</td>\n",
       "      <td>06 8, 2010</td>\n",
       "      <td>1275955200</td>\n",
       "    </tr>\n",
       "    <tr>\n",
       "      <th>3</th>\n",
       "      <td>A1XZUG7DFXXOS4</td>\n",
       "      <td>159985130X</td>\n",
       "      <td>Cat lover</td>\n",
       "      <td>[56, 60]</td>\n",
       "      <td>Love the Great point light pocket magnifier!  ...</td>\n",
       "      <td>4</td>\n",
       "      <td>great addition to your purse</td>\n",
       "      <td>02 8, 2008</td>\n",
       "      <td>1202428800</td>\n",
       "    </tr>\n",
       "    <tr>\n",
       "      <th>4</th>\n",
       "      <td>A1MS3M7M7AM13X</td>\n",
       "      <td>159985130X</td>\n",
       "      <td>Cricketoes</td>\n",
       "      <td>[1, 1]</td>\n",
       "      <td>This is very nice. You pull out on the magnifi...</td>\n",
       "      <td>5</td>\n",
       "      <td>Very nice and convenient.</td>\n",
       "      <td>08 16, 2011</td>\n",
       "      <td>1313452800</td>\n",
       "    </tr>\n",
       "  </tbody>\n",
       "</table>\n",
       "</div>"
      ],
      "text/plain": [
       "       reviewerID        asin                reviewerName   helpful  \\\n",
       "0   ALC5GH8CAMAI7  159985130X                        AnnN    [1, 1]   \n",
       "1   AHKSURW85PJUE  159985130X         AZ buyer \"AZ buyer\"    [1, 1]   \n",
       "2   A38RMU1Y5TDP9  159985130X  Bob Tobias \"Robert Tobias\"  [75, 77]   \n",
       "3  A1XZUG7DFXXOS4  159985130X                   Cat lover  [56, 60]   \n",
       "4  A1MS3M7M7AM13X  159985130X                  Cricketoes    [1, 1]   \n",
       "\n",
       "                                          reviewText  overall  \\\n",
       "0  This is a great little gadget to have around. ...        5   \n",
       "1  I would recommend this for a travel magnifier ...        4   \n",
       "2  What I liked was the quality of the lens and t...        4   \n",
       "3  Love the Great point light pocket magnifier!  ...        4   \n",
       "4  This is very nice. You pull out on the magnifi...        5   \n",
       "\n",
       "                                 summary   reviewTime  unixReviewTime  \n",
       "0                    Handy little gadget   01 5, 2011      1294185600  \n",
       "1  Small & may need to encourage battery  02 18, 2012      1329523200  \n",
       "2                Very good but not great   06 8, 2010      1275955200  \n",
       "3           great addition to your purse   02 8, 2008      1202428800  \n",
       "4              Very nice and convenient.  08 16, 2011      1313452800  "
      ]
     },
     "execution_count": 73,
     "metadata": {},
     "output_type": "execute_result"
    }
   ],
   "source": [
    "df_new.head()"
   ]
  },
  {
   "cell_type": "code",
   "execution_count": 74,
   "metadata": {},
   "outputs": [],
   "source": [
    "# covert column 'helpful' to float\n",
    "# helpful_score = helpful[0]/helpful[1]\n",
    "df_new['helpful_score'] = df_new['helpful'].apply(lambda x: x[0])/df_new['helpful'].apply(lambda x: x[1])\n",
    "\n",
    "# convert reviewtime to datatime format\n",
    "df_new[\"reviewTime\"] = pd.to_datetime(df_new[\"reviewTime\"])\n",
    "\n",
    "# convert the ratings to positive(>3) and negetive(<=3)\n",
    "df_new['pos_neg'] = [1 if x > 3 else 0 for x in df_new['overall']]\n",
    "\n",
    "# Do the negative sentiments contain a lesser amount of words than the positive ones? \n",
    "df_new['word_count'] = df_new['reviewText'].apply(lambda x: len(x.split(\" \")))\n",
    "\n",
    "# combine reviewText and summary\n",
    "df_new['text_comb'] = df_new['summary']+ ' ' + df_new['reviewText']\n",
    "\n",
    "# covert all the text to lowercase\n",
    "df_new['text_comb'] = df_new['text_comb'].apply(lambda x: x.lower())\n",
    "\n",
    "# remove punctuations\n",
    "df_new['text_comb'] = df_new['text_comb'].str.replace('[^\\w\\s]','')\n",
    "\n",
    "# remove stop words\n",
    "stop = stopwords.words(\"english\")+[u'ive', u'dont', u'wouldnt', u'im', u'couldnt', u'shouldnt', u'cant', u'mightnt', u'mustnt', u'neednt', u'amazon', u'kindle']\n",
    "df_new['text_comb'] = df_new['text_comb'].apply(lambda x: \" \".join(x for x in x.split(\" \") if x not in stop))\n",
    "\n",
    "# remove numbers\n",
    "df_new['text_comb'] = df_new['text_comb'].apply(lambda x: \" \".join([x for x in x.split(\" \") if not x.isdigit()]))\n",
    "\n",
    "# Lemmatization\n",
    "df_new['text_comb'] = df_new['text_comb'].apply(lambda x: \" \".join([Word(word).lemmatize() for word in x.split()]))\n",
    "\n",
    "# Spelling correction\n",
    "#df_new['text_comb'] = df_new['text_comb'].apply(lambda x: str(TextBlob(x).correct()))"
   ]
  },
  {
   "cell_type": "code",
   "execution_count": 274,
   "metadata": {
    "collapsed": true
   },
   "outputs": [],
   "source": [
    "df_test = TextBlob(df_new['text_comb'][1]).words"
   ]
  },
  {
   "cell_type": "code",
   "execution_count": 276,
   "metadata": {},
   "outputs": [
    {
     "ename": "AttributeError",
     "evalue": "'WordList' object has no attribute 'apply'",
     "output_type": "error",
     "traceback": [
      "\u001b[0;31m---------------------------------------------------------------------------\u001b[0m",
      "\u001b[0;31mAttributeError\u001b[0m                            Traceback (most recent call last)",
      "\u001b[0;32m<ipython-input-276-56adf7214c47>\u001b[0m in \u001b[0;36m<module>\u001b[0;34m()\u001b[0m\n\u001b[0;32m----> 1\u001b[0;31m \u001b[0mdf_test\u001b[0m \u001b[0;34m=\u001b[0m \u001b[0mdf_test\u001b[0m\u001b[0;34m.\u001b[0m\u001b[0mapply\u001b[0m\u001b[0;34m(\u001b[0m\u001b[0;32mlambda\u001b[0m \u001b[0mx\u001b[0m\u001b[0;34m:\u001b[0m \u001b[0;34m\" \"\u001b[0m\u001b[0;34m.\u001b[0m\u001b[0mjoin\u001b[0m\u001b[0;34m(\u001b[0m\u001b[0;34m[\u001b[0m\u001b[0mWord\u001b[0m\u001b[0;34m(\u001b[0m\u001b[0mword\u001b[0m\u001b[0;34m)\u001b[0m\u001b[0;34m.\u001b[0m\u001b[0mlemmatize\u001b[0m\u001b[0;34m(\u001b[0m\u001b[0;34m)\u001b[0m \u001b[0;32mfor\u001b[0m \u001b[0mword\u001b[0m \u001b[0;32min\u001b[0m \u001b[0mx\u001b[0m\u001b[0;34m.\u001b[0m\u001b[0msplit\u001b[0m\u001b[0;34m(\u001b[0m\u001b[0;34m)\u001b[0m\u001b[0;34m]\u001b[0m\u001b[0;34m)\u001b[0m\u001b[0;34m)\u001b[0m\u001b[0;34m\u001b[0m\u001b[0m\n\u001b[0m",
      "\u001b[0;31mAttributeError\u001b[0m: 'WordList' object has no attribute 'apply'"
     ]
    }
   ],
   "source": [
    "df_test = df_test.apply(lambda x: \" \".join([Word(word).lemmatize() for word in x.split()]))"
   ]
  },
  {
   "cell_type": "code",
   "execution_count": 275,
   "metadata": {},
   "outputs": [
    {
     "data": {
      "text/plain": [
       "WordList(['small', 'may', 'need', 'encourage', 'battery', 'would', 'recommend', 'travel', 'magnifier', 'occasional', 'readingi', 'read', 'another', 'review', 'magnifier', 'problem', 'light', 'coming', 'find', 'one', 'appeared', 'doa', 'box', 'opening', 'shutting', 'viewer', 'turn', 'light', 'light', 'began', 'come', 'several', 'time', 'light', 'appears', 'coming', 'timeit', 'small', 'taking', 'someplace', 'reading', 'thing', 'like', 'menu', 'dark', 'corner', 'restaurant', 'great'])"
      ]
     },
     "execution_count": 275,
     "metadata": {},
     "output_type": "execute_result"
    }
   ],
   "source": [
    "df_test"
   ]
  },
  {
   "cell_type": "code",
   "execution_count": 75,
   "metadata": {},
   "outputs": [
    {
     "data": {
      "text/html": [
       "<div>\n",
       "<style scoped>\n",
       "    .dataframe tbody tr th:only-of-type {\n",
       "        vertical-align: middle;\n",
       "    }\n",
       "\n",
       "    .dataframe tbody tr th {\n",
       "        vertical-align: top;\n",
       "    }\n",
       "\n",
       "    .dataframe thead th {\n",
       "        text-align: right;\n",
       "    }\n",
       "</style>\n",
       "<table border=\"1\" class=\"dataframe\">\n",
       "  <thead>\n",
       "    <tr style=\"text-align: right;\">\n",
       "      <th></th>\n",
       "      <th>reviewerID</th>\n",
       "      <th>asin</th>\n",
       "      <th>reviewerName</th>\n",
       "      <th>helpful</th>\n",
       "      <th>reviewText</th>\n",
       "      <th>overall</th>\n",
       "      <th>summary</th>\n",
       "      <th>reviewTime</th>\n",
       "      <th>unixReviewTime</th>\n",
       "      <th>helpful_score</th>\n",
       "      <th>pos_neg</th>\n",
       "      <th>word_count</th>\n",
       "      <th>text_comb</th>\n",
       "    </tr>\n",
       "  </thead>\n",
       "  <tbody>\n",
       "    <tr>\n",
       "      <th>0</th>\n",
       "      <td>ALC5GH8CAMAI7</td>\n",
       "      <td>159985130X</td>\n",
       "      <td>AnnN</td>\n",
       "      <td>[1, 1]</td>\n",
       "      <td>This is a great little gadget to have around. ...</td>\n",
       "      <td>5</td>\n",
       "      <td>Handy little gadget</td>\n",
       "      <td>2011-01-05</td>\n",
       "      <td>1294185600</td>\n",
       "      <td>1.000000</td>\n",
       "      <td>1</td>\n",
       "      <td>46</td>\n",
       "      <td>handy little gadget great little gadget around...</td>\n",
       "    </tr>\n",
       "    <tr>\n",
       "      <th>1</th>\n",
       "      <td>AHKSURW85PJUE</td>\n",
       "      <td>159985130X</td>\n",
       "      <td>AZ buyer \"AZ buyer\"</td>\n",
       "      <td>[1, 1]</td>\n",
       "      <td>I would recommend this for a travel magnifier ...</td>\n",
       "      <td>4</td>\n",
       "      <td>Small &amp; may need to encourage battery</td>\n",
       "      <td>2012-02-18</td>\n",
       "      <td>1329523200</td>\n",
       "      <td>1.000000</td>\n",
       "      <td>1</td>\n",
       "      <td>101</td>\n",
       "      <td>small may need encourage battery would recomme...</td>\n",
       "    </tr>\n",
       "    <tr>\n",
       "      <th>2</th>\n",
       "      <td>A38RMU1Y5TDP9</td>\n",
       "      <td>159985130X</td>\n",
       "      <td>Bob Tobias \"Robert Tobias\"</td>\n",
       "      <td>[75, 77]</td>\n",
       "      <td>What I liked was the quality of the lens and t...</td>\n",
       "      <td>4</td>\n",
       "      <td>Very good but not great</td>\n",
       "      <td>2010-06-08</td>\n",
       "      <td>1275955200</td>\n",
       "      <td>0.974026</td>\n",
       "      <td>1</td>\n",
       "      <td>231</td>\n",
       "      <td>good great liked quality lens built light lens...</td>\n",
       "    </tr>\n",
       "    <tr>\n",
       "      <th>3</th>\n",
       "      <td>A1XZUG7DFXXOS4</td>\n",
       "      <td>159985130X</td>\n",
       "      <td>Cat lover</td>\n",
       "      <td>[56, 60]</td>\n",
       "      <td>Love the Great point light pocket magnifier!  ...</td>\n",
       "      <td>4</td>\n",
       "      <td>great addition to your purse</td>\n",
       "      <td>2008-02-08</td>\n",
       "      <td>1202428800</td>\n",
       "      <td>0.933333</td>\n",
       "      <td>1</td>\n",
       "      <td>83</td>\n",
       "      <td>great addition purse love great point light po...</td>\n",
       "    </tr>\n",
       "    <tr>\n",
       "      <th>4</th>\n",
       "      <td>A1MS3M7M7AM13X</td>\n",
       "      <td>159985130X</td>\n",
       "      <td>Cricketoes</td>\n",
       "      <td>[1, 1]</td>\n",
       "      <td>This is very nice. You pull out on the magnifi...</td>\n",
       "      <td>5</td>\n",
       "      <td>Very nice and convenient.</td>\n",
       "      <td>2011-08-16</td>\n",
       "      <td>1313452800</td>\n",
       "      <td>1.000000</td>\n",
       "      <td>1</td>\n",
       "      <td>45</td>\n",
       "      <td>nice convenient nice pull magnifier want light...</td>\n",
       "    </tr>\n",
       "  </tbody>\n",
       "</table>\n",
       "</div>"
      ],
      "text/plain": [
       "       reviewerID        asin                reviewerName   helpful  \\\n",
       "0   ALC5GH8CAMAI7  159985130X                        AnnN    [1, 1]   \n",
       "1   AHKSURW85PJUE  159985130X         AZ buyer \"AZ buyer\"    [1, 1]   \n",
       "2   A38RMU1Y5TDP9  159985130X  Bob Tobias \"Robert Tobias\"  [75, 77]   \n",
       "3  A1XZUG7DFXXOS4  159985130X                   Cat lover  [56, 60]   \n",
       "4  A1MS3M7M7AM13X  159985130X                  Cricketoes    [1, 1]   \n",
       "\n",
       "                                          reviewText  overall  \\\n",
       "0  This is a great little gadget to have around. ...        5   \n",
       "1  I would recommend this for a travel magnifier ...        4   \n",
       "2  What I liked was the quality of the lens and t...        4   \n",
       "3  Love the Great point light pocket magnifier!  ...        4   \n",
       "4  This is very nice. You pull out on the magnifi...        5   \n",
       "\n",
       "                                 summary reviewTime  unixReviewTime  \\\n",
       "0                    Handy little gadget 2011-01-05      1294185600   \n",
       "1  Small & may need to encourage battery 2012-02-18      1329523200   \n",
       "2                Very good but not great 2010-06-08      1275955200   \n",
       "3           great addition to your purse 2008-02-08      1202428800   \n",
       "4              Very nice and convenient. 2011-08-16      1313452800   \n",
       "\n",
       "   helpful_score  pos_neg  word_count  \\\n",
       "0       1.000000        1          46   \n",
       "1       1.000000        1         101   \n",
       "2       0.974026        1         231   \n",
       "3       0.933333        1          83   \n",
       "4       1.000000        1          45   \n",
       "\n",
       "                                           text_comb  \n",
       "0  handy little gadget great little gadget around...  \n",
       "1  small may need encourage battery would recomme...  \n",
       "2  good great liked quality lens built light lens...  \n",
       "3  great addition purse love great point light po...  \n",
       "4  nice convenient nice pull magnifier want light...  "
      ]
     },
     "execution_count": 75,
     "metadata": {},
     "output_type": "execute_result"
    }
   ],
   "source": [
    "df_new.head()"
   ]
  },
  {
   "cell_type": "code",
   "execution_count": 76,
   "metadata": {},
   "outputs": [
    {
     "data": {
      "text/html": [
       "<div>\n",
       "<style scoped>\n",
       "    .dataframe tbody tr th:only-of-type {\n",
       "        vertical-align: middle;\n",
       "    }\n",
       "\n",
       "    .dataframe tbody tr th {\n",
       "        vertical-align: top;\n",
       "    }\n",
       "\n",
       "    .dataframe thead th {\n",
       "        text-align: right;\n",
       "    }\n",
       "</style>\n",
       "<table border=\"1\" class=\"dataframe\">\n",
       "  <thead>\n",
       "    <tr style=\"text-align: right;\">\n",
       "      <th></th>\n",
       "      <th>overall</th>\n",
       "      <th>unixReviewTime</th>\n",
       "      <th>helpful_score</th>\n",
       "      <th>pos_neg</th>\n",
       "      <th>word_count</th>\n",
       "    </tr>\n",
       "  </thead>\n",
       "  <tbody>\n",
       "    <tr>\n",
       "      <th>count</th>\n",
       "      <td>80000.000000</td>\n",
       "      <td>8.000000e+04</td>\n",
       "      <td>39305.000000</td>\n",
       "      <td>80000.000000</td>\n",
       "      <td>80000.000000</td>\n",
       "    </tr>\n",
       "    <tr>\n",
       "      <th>mean</th>\n",
       "      <td>4.285687</td>\n",
       "      <td>1.349467e+09</td>\n",
       "      <td>0.734303</td>\n",
       "      <td>0.808400</td>\n",
       "      <td>86.934562</td>\n",
       "    </tr>\n",
       "    <tr>\n",
       "      <th>std</th>\n",
       "      <td>1.144710</td>\n",
       "      <td>5.629736e+07</td>\n",
       "      <td>0.353143</td>\n",
       "      <td>0.393562</td>\n",
       "      <td>109.656935</td>\n",
       "    </tr>\n",
       "    <tr>\n",
       "      <th>min</th>\n",
       "      <td>1.000000</td>\n",
       "      <td>9.763200e+08</td>\n",
       "      <td>0.000000</td>\n",
       "      <td>0.000000</td>\n",
       "      <td>1.000000</td>\n",
       "    </tr>\n",
       "    <tr>\n",
       "      <th>25%</th>\n",
       "      <td>4.000000</td>\n",
       "      <td>1.334189e+09</td>\n",
       "      <td>0.500000</td>\n",
       "      <td>1.000000</td>\n",
       "      <td>31.000000</td>\n",
       "    </tr>\n",
       "    <tr>\n",
       "      <th>50%</th>\n",
       "      <td>5.000000</td>\n",
       "      <td>1.366934e+09</td>\n",
       "      <td>0.961538</td>\n",
       "      <td>1.000000</td>\n",
       "      <td>54.000000</td>\n",
       "    </tr>\n",
       "    <tr>\n",
       "      <th>75%</th>\n",
       "      <td>5.000000</td>\n",
       "      <td>1.387152e+09</td>\n",
       "      <td>1.000000</td>\n",
       "      <td>1.000000</td>\n",
       "      <td>103.000000</td>\n",
       "    </tr>\n",
       "    <tr>\n",
       "      <th>max</th>\n",
       "      <td>5.000000</td>\n",
       "      <td>1.406074e+09</td>\n",
       "      <td>1.000000</td>\n",
       "      <td>1.000000</td>\n",
       "      <td>5425.000000</td>\n",
       "    </tr>\n",
       "  </tbody>\n",
       "</table>\n",
       "</div>"
      ],
      "text/plain": [
       "            overall  unixReviewTime  helpful_score       pos_neg    word_count\n",
       "count  80000.000000    8.000000e+04   39305.000000  80000.000000  80000.000000\n",
       "mean       4.285687    1.349467e+09       0.734303      0.808400     86.934562\n",
       "std        1.144710    5.629736e+07       0.353143      0.393562    109.656935\n",
       "min        1.000000    9.763200e+08       0.000000      0.000000      1.000000\n",
       "25%        4.000000    1.334189e+09       0.500000      1.000000     31.000000\n",
       "50%        5.000000    1.366934e+09       0.961538      1.000000     54.000000\n",
       "75%        5.000000    1.387152e+09       1.000000      1.000000    103.000000\n",
       "max        5.000000    1.406074e+09       1.000000      1.000000   5425.000000"
      ]
     },
     "execution_count": 76,
     "metadata": {},
     "output_type": "execute_result"
    }
   ],
   "source": [
    "df_new.describe()"
   ]
  },
  {
   "cell_type": "markdown",
   "metadata": {},
   "source": [
    "## Exploratory Data Analysis"
   ]
  },
  {
   "cell_type": "code",
   "execution_count": 77,
   "metadata": {},
   "outputs": [
    {
     "data": {
      "text/html": [
       "<div>\n",
       "<style scoped>\n",
       "    .dataframe tbody tr th:only-of-type {\n",
       "        vertical-align: middle;\n",
       "    }\n",
       "\n",
       "    .dataframe tbody tr th {\n",
       "        vertical-align: top;\n",
       "    }\n",
       "\n",
       "    .dataframe thead th {\n",
       "        text-align: right;\n",
       "    }\n",
       "</style>\n",
       "<table border=\"1\" class=\"dataframe\">\n",
       "  <thead>\n",
       "    <tr style=\"text-align: right;\">\n",
       "      <th></th>\n",
       "      <th>count</th>\n",
       "      <th>mean</th>\n",
       "      <th>std</th>\n",
       "      <th>min</th>\n",
       "      <th>25%</th>\n",
       "      <th>50%</th>\n",
       "      <th>75%</th>\n",
       "      <th>max</th>\n",
       "    </tr>\n",
       "    <tr>\n",
       "      <th>pos_neg</th>\n",
       "      <th></th>\n",
       "      <th></th>\n",
       "      <th></th>\n",
       "      <th></th>\n",
       "      <th></th>\n",
       "      <th></th>\n",
       "      <th></th>\n",
       "      <th></th>\n",
       "    </tr>\n",
       "  </thead>\n",
       "  <tbody>\n",
       "    <tr>\n",
       "      <th>0</th>\n",
       "      <td>15328.0</td>\n",
       "      <td>94.707920</td>\n",
       "      <td>122.613989</td>\n",
       "      <td>1.0</td>\n",
       "      <td>35.0</td>\n",
       "      <td>61.0</td>\n",
       "      <td>113.0</td>\n",
       "      <td>5425.0</td>\n",
       "    </tr>\n",
       "    <tr>\n",
       "      <th>1</th>\n",
       "      <td>64672.0</td>\n",
       "      <td>85.092188</td>\n",
       "      <td>106.272536</td>\n",
       "      <td>1.0</td>\n",
       "      <td>31.0</td>\n",
       "      <td>52.0</td>\n",
       "      <td>100.0</td>\n",
       "      <td>4550.0</td>\n",
       "    </tr>\n",
       "  </tbody>\n",
       "</table>\n",
       "</div>"
      ],
      "text/plain": [
       "           count       mean         std  min   25%   50%    75%     max\n",
       "pos_neg                                                                \n",
       "0        15328.0  94.707920  122.613989  1.0  35.0  61.0  113.0  5425.0\n",
       "1        64672.0  85.092188  106.272536  1.0  31.0  52.0  100.0  4550.0"
      ]
     },
     "execution_count": 77,
     "metadata": {},
     "output_type": "execute_result"
    }
   ],
   "source": [
    "df_new['word_count'].groupby(df_new['pos_neg']).describe()"
   ]
  },
  {
   "cell_type": "code",
   "execution_count": 78,
   "metadata": {
    "collapsed": true
   },
   "outputs": [],
   "source": [
    "#sns.boxplot(y=df_new['word_count'], hue=df_new['pos_neg'], data=df_new, palette=\"PRGn\")"
   ]
  },
  {
   "cell_type": "markdown",
   "metadata": {},
   "source": [
    "### What's the percentage of 5-star ratings?"
   ]
  },
  {
   "cell_type": "code",
   "execution_count": 79,
   "metadata": {},
   "outputs": [
    {
     "name": "stdout",
     "output_type": "stream",
     "text": [
      "* 80.27%(5-star rating + 4-star rating) customers are satisfied with the products.\n"
     ]
    },
    {
     "data": {
      "image/png": "[encoded data removed]",
      "text/plain": [
       "<matplotlib.figure.Figure at 0x1228b7b70>"
      ]
     },
     "metadata": {},
     "output_type": "display_data"
    }
   ],
   "source": [
    "f,ax=plt.subplots(1, figsize=(15,7))\n",
    "df_new['overall'].value_counts().plot.pie(autopct='%1.2f%%',shadow=False)\n",
    "ax.axis('equal')  # to make the pie a circle\n",
    "ax.set_title('Rating Percentage')\n",
    "ax.set_ylabel('')\n",
    "print ('* 80.27%(5-star rating + 4-star rating) customers are satisfied with the products.')\n",
    "plt.show()"
   ]
  },
  {
   "cell_type": "code",
   "execution_count": 80,
   "metadata": {},
   "outputs": [
    {
     "data": {
      "text/plain": [
       "array([<matplotlib.axes._subplots.AxesSubplot object at 0x1228b7e10>,\n",
       "       <matplotlib.axes._subplots.AxesSubplot object at 0x12324ec50>],\n",
       "      dtype=object)"
      ]
     },
     "execution_count": 80,
     "metadata": {},
     "output_type": "execute_result"
    },
    {
     "data": {
      "image/png": "[encoded data removed]",
      "text/plain": [
       "<matplotlib.figure.Figure at 0x112f6d240>"
      ]
     },
     "metadata": {},
     "output_type": "display_data"
    }
   ],
   "source": [
    "df_new.hist(column='word_count', by='pos_neg', bins=50,figsize=(12,4))"
   ]
  },
  {
   "cell_type": "code",
   "execution_count": 81,
   "metadata": {},
   "outputs": [
    {
     "data": {
      "text/plain": [
       "array([<matplotlib.axes._subplots.AxesSubplot object at 0x195fb0588>,\n",
       "       <matplotlib.axes._subplots.AxesSubplot object at 0x123479eb8>],\n",
       "      dtype=object)"
      ]
     },
     "execution_count": 81,
     "metadata": {},
     "output_type": "execute_result"
    },
    {
     "data": {
      "image/png": "[encoded data removed]",
      "text/plain": [
       "<matplotlib.figure.Figure at 0x11c71a3c8>"
      ]
     },
     "metadata": {},
     "output_type": "display_data"
    }
   ],
   "source": [
    "df_new.hist(column='word_count', by='pos_neg', range=(0, 500), bins=50,figsize=(12,4))"
   ]
  },
  {
   "cell_type": "code",
   "execution_count": 82,
   "metadata": {},
   "outputs": [
    {
     "data": {
      "text/plain": [
       "5425"
      ]
     },
     "execution_count": 82,
     "metadata": {},
     "output_type": "execute_result"
    }
   ],
   "source": [
    "df_new['word_count'].max()"
   ]
  },
  {
   "cell_type": "code",
   "execution_count": 277,
   "metadata": {},
   "outputs": [
    {
     "data": {
      "text/plain": [
       "2"
      ]
     },
     "execution_count": 277,
     "metadata": {},
     "output_type": "execute_result"
    }
   ],
   "source": [
    "df_new[df_new['word_count'] == 5425]['overall'].iloc[0]"
   ]
  },
  {
   "cell_type": "code",
   "execution_count": 278,
   "metadata": {},
   "outputs": [
    {
     "data": {
      "text/plain": [
       "'B000LZIXJO'"
      ]
     },
     "execution_count": 278,
     "metadata": {},
     "output_type": "execute_result"
    }
   ],
   "source": [
    "df_new[df_new['word_count'] == 5425]['asin'].iloc[0]"
   ]
  },
  {
   "cell_type": "markdown",
   "metadata": {},
   "source": [
    "插图！"
   ]
  },
  {
   "cell_type": "code",
   "execution_count": 279,
   "metadata": {},
   "outputs": [
    {
     "data": {
      "text/plain": [
       "'WSN Nerve Formula ReviewThe manufacture claims: \"The WSN Nerve Support Formula is a medical food specifically formulated for the dietary management of neuropathy\" and goes on to claim it can help end the pain and suffering of neuropathy.I have had neuropathy (caused by accidents that damaged my nerves, not from diabetes) for over 12 years, getting worse each year and I have tried this product. I noticed no improvement from taking this product exactly as directed for 3 months. I will not say it will not work for you, but I will say you should be EXTREMELY CAREFUL before you use this product. And not just because you might end up wasting your money. I explain why below.Below I have also taken the time to tell you of things I\\'ve done, without the use of any prescription drugs or expensive supplements, that have helped me with the pain, burning, and numbness caused by my particular type of neuropathy. I include this information at the bottom of this review.But first, MY REVIEW of the product:I\\'ve uploaded a copy of the ingredients label. You can see it above, just select the \"see customer image\" link and click. Ingredients for 1 Capsule:Vitamin B-1: 103 mg (in the form of fat soluble Benfotiamine)Vitamin B-12: 1000 mcg (in the form of fat soluble Methylcobalamin)Vitamin B-2: 2 mgVitamin B-6: 2 mgVitamin B-9: 100 mcg (also known as Folic Acid)Vitamin D3: 250 IUThey claim their vitamin formula is better than just taking regular B vitamins for two main reasons:> They claim their form of B-1 (fat soluble Benfotiamine) is better absorbed by the body than regular B-1 (water soluble thiamine or thiamin).> They claim their form of B-12 (fat soluble Methylcobalamin or Methyl B12) is better absorbed by the body than regular B-12 (water soluble Cyanocobalamin).The other ingredients (B-2, B-6, B-9, and D3) are said to be needed to help the B-1 and B-12 do their job. It is a scientific fact that vitamins need other vitamins to do work properly in your body, so this is not contested in any way.They say the reason their B-1 and B-12 formula is so much better is because water soluble vitamins move through your system and come out in your urine before they get a chance to be absorbed and properly used by the body while fat soluble vitamins are absorbed better by the body and therefore are used by the body instead of just being expelled in your urine. I will not dispute the fact that some fat soluble vitamins and supplements are better absorbed by the body. I have had several doctors tell me this and I\\'ve read it in many books. But I can\\'t find enough information about Benfotiamine and Methylcobalamin to know if it\\'s safe to take in the quantities recommended by the manufacturer. Plus, it did not work for me and I cannot find any scientific studies that prove it works for anyone.So, what concerns me (other than the fact that it did not work for me), and dare I say what should concern everyone, is the amount of Benfotiamine & Methylcobalamin you\\'re expected to take in order for these pills to work. And the fact that the manufacturer will tell you to keep upping the dose if you say it isn\\'t working for you. There seems to be no limit to how much they expect you to take.According to the ingredients on the bottle and the instructions, you\\'re expected to take nearly 70 THOUSAND percent of the recommended daily dosage of B-12, just to start (at 4 pills a day). And while it is widely known that it is very difficult to overdose on water based B-12 (Cyanocobalamin), the manufacturer of this product claims their B-12 is NOT water based Cyanocobalamin, but is instead \"fat soluble\" Methylcobalamin and they claim all (or most) of the 70,0000% of the daily dose will in fact be absorbed into your body. I can find no studies on what levels of Methylcobalamin are safe to take at one time or daily but I do know it is in fact possible to overdose on something as simple and seemingly harmless as vitamins.For your own health and safety, what I just mentioned should not be taken lightly or ignored. Remember, you\\'re expected to take 4 capsules a day - 2 in the morning with breakfast, 2 at night with dinner. That\\'s just to start. If that does not work they suggest taking more, and more, and more. Let\\'s keep in mind that just one capsule gives you 16,666% of your daily value of B-12 (that\\'s not a typo, that\\'s over 16 thousand percent of the daily recommended dosage of vitamin B-12 in ONE capsule. I do not always assume the FDA or any other government agency is correct, when it comes to the recommended daily dosage of anything or on any other subject, but one has to wonder if taking nearly 70 THOUSAND percent of the recommended dosage EVERY DAY is healthy. And that\\'s just if you take the beginning dosage of 4 a day.It is my belief that this combination of vitamins at very high levels MIGHT work (10 or 20 pills per day, or if given intravenously), but in such high dosages I truly believe it is something you should only do with the cooperation and help of a medical professional and I could find no doctor that would recommend I take these pills or go higher than the 4 per day dosage. Why? Because there is not enough scientific evidence published to know if it is possible to overdose on the ingredients, and it is possible the ingredients (at the recommended levels) can interfere with other medications you may be taking, or other physiological problems you may have, and might not even be aware of.On one of the websites I found that is selling this product, there\\'s an FAQs page with the question; Is it safe to take so much of the B1 and B12 in the fat soluble form? The answer given is this:\"There are numerous clinical trials and studies where Benfotiamine or Methyl B12 have been used, often in far, far higher amounts than contained in our product. To date, there have been no reports of adverse reactions or toxic effects.... Additionally, there are no reports of adverse effects or negative interactions between Benfotiamine or Methyl B12 and other supplements or doctor prescribed medications.... Numerous health care professionals know of the benefits of treatment with Benfotiamine or Methyl B12. Any in depth study on the web will produce physicians, naturopaths, neurologists, optometrists, chiropractors, etc. who have seen or know of the effectiveness of treating patients with Benfotiamine and Methyl B12.\"BUT, and this is a big BUT, they don\\'t give any specifics about what trials and studies have been done. They make the statement, they make the claim, but they offer no evidence or proof of the claim that these trials and studies have been done. Not a link, not a mention of a science lab or university where the studies were supposedly done, not a name of one doctor, scientist, or medical professional who can vouch for any of these so-called studies they say prove what they claim. Considering they\\'re selling this stuff, and taking your money for it, I would expect them to produce such evidence supporting their claims. But so far as I can see, they have not. The simply to not give any proof of the studies they talk about. The only \"evidence\" they show are \"testimonials\" which we don\\'t know are from people who really took the product and were really helped, or if they\\'re fake testimonials.~ ~ ~ ~ ~ ~ ~ ~ ~ ~ ~ ~ ~ ~ ~ ~ ~ ~ ~ ~ ~ ~ ~ ~ ~ ~ ~ ~ ~ ~ ~ ~ ~ ~ ~ ~ ~ ~ ~ ~ ~ ~ ~ ~ ~ ~ABOUT NEUROPATHY & SCIATIC PAIN (SCIATICA)I include this layman\\'s explanation and overview of what neuropathy is for those who aren\\'t sure if they have it, and for those who have loved ones with neuropathy and want to understand it better. Below this I\\'ll also tell you about what I\\'ve done (without drugs) to help alleviate some of the pain.Although Neuropathy is most often thought of by the average person as a symptom of Diabetes, neuropathy can actually be caused by many different things, including but not limited to physical damage done to nerves in the legs and arms, or spine. One of the most common nerves to be damaged is the biggest nerve in your body - your spinal cord. When neuropathy is caused by damage to the spine (spinal cord) it often causes sciatica, because the damage is often done to the lower part of the spine that affects the sciatic nerve. Sciatic nerve damage can cause problems (neuropathy) from your lower back and hips, down your thigh, and even into your calf, foot, and toes when it is at its worst.Neuropathy is most often thought of numbness and tingling. But neuropathy can also cause extreme pain on the surface of your skin, such as burning, and stabbing pains. In fact, you can have it all, like I do; numbness, tingling, burning, stabbing, and extreme pain. The pain on your skin can feel like mild to severe sunburn, or it can be so bad that just the touch of your clothes may feel like someone is rubbing sand paper on a third degree burn. This happens most in the thigh but can happen anywhere on your extremities (arm, legs, hands, feet).But that\\'s not the only way neuropathy tortures you. Someone might jokingly poke you, or you may accidentally bump your leg into the corner of a table or other protruding object, and the pain of that light poke can feel like someone stabbing you in the thigh with a knife. Or you can get a small piece of cloth stuck in your shoe that causes so much pain you can\\'t walk. The size of the cloth might be no more than a tiny corner of a matchbook cover, but it can feel like a shard of glass sticking into your foot. All the while you can also have numbness and tingling, so much that you don\\'t know if you have your shoes and socks on unless you looked down at your feet. So yes, with neuropathy (nerve damage) you can have numbness and extreme pain at the same time.Even though I was experiencing neuropathy first hand I had a very hard time understanding what was going on with my feet and legs. I couldn\\'t understand why my feet felt numb on moment and had extreme pain the next. So I asked around and kept asking until someone finally explained it to me in a way I could completely understand.The way it was described to me by one doctor was this: Imagine all the taste buds on your tongue. You have about 9 thousand of them and they each have a purpose. Some of them can only sense sugary foods, some can only sense salty foods, other will only sense things that taste sour, bitter, or savory. You can taste everything if your taste buds are working correctly. But if, for example, your sour sensing taste buds don\\'t work, you can\\'t taste sour foods at all so you could down a glass of spoiled milk as if it was water without blinking an eye.Now think of the nerves in your skin working much the same as taste buds. You have millions of nerve endings and each has their own job. But instead of sensing sugar, salt, bitter, savory and sour they sense pain, pressure, hot, and cold. If your pain sensors are not working right you might not feel any pain at all, or you might feel intense pain with just the slightest touch. If your pressure sensors are not working correctly you might not even feel the ground beneath your feet, or the presence of a grain of sand in your shoe might feel like a large jagged stone. If your hot/cold sensors are not working correctly you might not know if your feet are in a pool of ice water or pot of hot water. Now imagine if some or all of those senses are not working correctly. And imagine they work in some areas and not in others. The sensors in the bottom of your feet may have one problem while the sensors in the top of your feet have another. Or the skin sensors on your outer thigh might not be working correctly but all is fine in your inner thigh. And depending on what is causing your neuropathy, depending on what is causing your sensors to malfunction, the way they malfunction can change, usually getting worse, as time progresses. That is neuropathy and no two people experience it the same exact way.Doctors don\\'t know for sure, but diabetic neuropathy is thought to result from damage to the tiny blood vessels that supply nerves with what they need to stay healthy. The damage to the blood vessels is thought to be caused by chronic high blood sugar or lack of insulin in the body. While diabetic neuropathy is most infamous for causing numbness and tingling in a persons feet and legs, it can affect just about any nerve in any part of your body - including the nerves in your skin, brain, eyes, and organs. This can result in facial dropping, dizziness, speech impairment, organ failure, and a seemingly never ending barrage of horrific pain and symptoms that can make a diabetic\\'s life torture just to exist, and can eventually become so severe it can kill them. You do not have to be diagnosed as a diabetic in order to feel the affects of neuropathy caused by this kind of nerve damage.But as I mentioned above, neuropathy can also be caused by something as simple as a pinched nerve (as with sciatica) or any other nerve damaged caused by an accident or injury, or can even be caused by damage to a nerve during surgery. Neuropathy can be caused by just about any disease that attacks the nerves, or anything that causes inflammation in your body. I won\\'t get into all of that here since I\\'d have to write a book to do that. Suffice to say most people with neuropathy either have diabetes or some kind of damage to their spine or other nerves.~ ~ ~ ~ ~ ~ ~ ~ ~ ~ ~ ~ ~ ~ ~ ~ ~ ~ ~ ~ ~ ~ ~ ~ ~ ~ ~ ~ ~ ~ ~ ~ ~ ~ ~ ~ ~ ~ ~ ~ ~ ~ ~ ~ ~ ~HOW I GET RELIEF FROM NEUROPATHY & SCIATIC PAIN (SCIATICA)My neuropathy is caused by physical damage to my nerves and spine and the pain and symptoms are often eased by the following. It is my understanding, from books I\\'ve read and conversations with doctors, that some of these practices may also help those with neuropathy caused by diabetes.> Inversion - hanging at an angle (about 40 to 60 degrees) or completely upside down, allowing the vertebrae in your back to gently stretch, relax, and realign. This is similar to traction but at the same time it is very different than typical traction. Typical traction does not allow your body to completely relax, therefore your muscles and spine can never truly realign as they should. For me, typical traction is unbelievably painful and only makes my back worse, which makes the neuropathy in my leg worse. For inversion I recommend Teeter Hang-Ups. There are several different models, this is just one of them:Teeter Hang Ups EP-950 Inversion Table With Healthy Back DVD. BUT be careful, because those with vertigo or those susceptible to vertigo can have tremendous problems from inversion. Vertigo is a serious condition causing severe dizziness that can come and go at any time for the rest of your life. Not everyone is susceptible to vertigo. Most people know if they are or can judge if they will be. For example; if you could never hang on monkey bars as a kid, if you can\\'t handle merry go rounds or roller coasters, if you\\'re uneasy with heights, if you get dizzy easily for ANY reason you might already have vertigo or are susceptible to it. If this is the case, do not try inversion without the assistance of a medical professional.> Salmon Oil - I take high doses (1000 to 2000 mg a day) of pure Alaskan Wild Salmon Oil. NOT just any salmon oil, not from farmed salmon, not from Atlantic salmon, and not just fish oil. There is a difference. It must be SALMON oil from WILD salmon in ALASKA. This is what I take, and  have been for at least 8 or 9 years:Natural Factors Wild Alaskan Salmon Oil 1000mg Softgels, 180-Count. Taking salmon oil reduces inflammation in the body, which can reduce pressure on nerves, which may be the cause of some forms of neuropathy. Taking Salmon oil can also reduce bad cholesterol, which is just an added bonus. If I run out or forget to take it, after about a week my back pain worsens, and it reminds me to take it again. So no, it is not a cure, not something you can take once and that\\'s it. You need to take it regularly. But, compared to the WSN Formula, it is less expensive and doctors and other medical professionals will surely tell you it\\'s safe to take.> Stop eating ALL diary. Diary causes the formation of mucus AND inflammation in the body. Many people have seen an improvement in all types of illnesses and pain just by eliminating diary. This may be helpful even for those with neuropathy caused by diabetes. Some report eliminating dairy products will also slow or stop the symptoms of MS (muscle spasms and pain). I do cheat from time to time because I love cheese, but I pay for it every time. When I take all dairy out of my diet my back pain and all body pain is greatly reduced. It also helps get rid of all head aches and sinus problems. You do NOT need to eat dairy to get calcium. Google calcium. There are plenty of other foods to get it from. I see no reason to eat dairy except that it tastes good. You have to decide which is more important, being pain free or disease free, or eating ice cream and butter and cheese. I know it\\'s hard for most people to give up dairy, but I hope you\\'ll try it just one time, for at least 2 weeks straight, and see the difference in your life.> Stop or greatly reduce consumption of all processed foods. That means eat only the foods that are in the form nature gives them to you, or close to it. Why? Because man made foods (processed foods) are laced with chemicals and altered un-natural foods, and are grown using poisons, and it\\'s a fact that those who eat whole foods feel better and are healthier than those who eat processed foods.> Try to eliminate all sugar (of any kind, even honey). It is a fact that eating too much sugar, eating any sugar, triggers mechanisms in the body that are harmful. This is why diabetics have so much trouble.> Try not to eat wheat or bread in any form. Eat as much brown rice (whole grain rice) as you can (1/3 of a cup with every meal is good) instead of bread or other starches. Many years ago it was found that eating rice, especially whole grain brown rice, helps to reduce inflammation in the body.> Eat whole fresh veggies and fruits. Cantaloupe is a natural anti-inflammatory and is highly recommended.> Eat organic whenever possible. Why? Because putting non-organic foods are laced with poison and it\\'s a fact that those who eat organic foods feel better and are healthier. When I eat all organic, whole foods, no processed foods and no dairy I become a new person. I\\'m virtually pain free, with only minor neuropathy pains, absolutely no sinus headaches, no stomach aches, no arthritic pains, and I have tremendous amounts of energy, and I\\'m always in a good mood. Unfortunately though it is expensive to eat this way (if you don\\'t have your own garden to grow organici fruits and veggies) so I only get to do this a few times a year, like a vacation for my body.> Try not to eat pork or beef. Try to stick with fresh fish and if you must, you can also have white meat chicken with no skin. Animal fat in large amounts (like the typical American eats) is not good for you and can cause many different symptoms, including inflammation which can lead to or worsen neuropathy. Wild caught salmon is by far the healthiest fish to eat, according to most experts. Tilapia is also good and is usually the least expensive fish to buy and it\\'s mild like sole or flounder. It averages about $2 to $4 per pound. I usually pay $2.99 per pound for it and I live in one of the most expensive areas in the United States when it comes to the cost of food. If you have a large yard you can \"grow\" your own Tilapia. They reproduce very quickly and don\\'t cost a lot to feed. You can grow them in an old bath tub or even a kiddy pool. Something to think about.> If you\\'re over weight, you MUST loose weight. If your neuropathy is caused by pressure on your spinal nerves or other nerves (in your neck, arms, legs, etc.) loosing weight will reduce the pressure. Every time I loose weight my neuropathy is lessened, and when I gain weight it gets worse. If your neuropathy is caused by diabetes then eating healthy will surely help with your diabetes and some or all of the problems it causes. I challenge anyone to prove otherwise!> Take a multivitamin each day, one that is made by a reputable company - in capsule or gel cap form. Most vitamins and supplements should be taken in capsule or gel/liquid form because it\\'s easier to get it into your system that way. There are a few exceptions to that rule, like with medications or supplements that need to bypass the acids in your stomach in order to work best for you, like probiotics. But that\\'s another subject & review for another day. I prefer Nature Made vitamins and supplements and so do many reputable and famous doctors. Dr. Amen, who is a reputable neurologist and has been seen on many TV shows (including PBS) recommends Nature Made. I give a link to one of his best books, which may help those with neuropathy (as well as other ailments) below. Nature Made makes many different kinds of multi-vitamins, including those for men or women, men over 50, women over 50, and pregnant women. Most all of them can be purchased here at Amazon and you can often get them in packs of 3 or 6 at a reduced price. Or the often go on sale in stores, several times a year, two for the price of one or buy one get one 50% off. I\\'ve also had my own doctors recommend Centrum and CVS brand of Centrum, but mostly Nature Made is recommended.> If you don\\'t want to buy WSN Formula, or if you have and it has not worked for you, take regular vitamin B complex, but take small amounts of regular water soluble B complex (B-50 for example) several times a day. As explained in my review above, if taken all at once most water soluble vitamin B will in fact come out in your urine, which is why taking small amounts throughout the day is a much better idea. And you can\\'t overdose on water soluble vitamins so you don\\'t have to worry about how much you\\'re taking. I had a surgeon suggest taking one B-50 complex capsule (not hard tablet) 4-6 times a day (morning, noon, snacks, dinner, bed time) along with food, even if just a cracker. Taking it with food might help it absorb into your body. Be sure you\\'re taking a multi-vitamin every day too, since B vitamins need other vitamins to work. This was prescribed to me for overall body pain by a surgeon and other doctors. I prefer Nature\\'s Way B Complex.Nature\\'s Way Vitamin B-50 Complex, Capsules, 100-Count> Exercise.If your neruopathy is caused by damage to your spine, do specific exercises to strengthen your lower back, legs (thighs), and core. If you haven\\'t been exercising or if exercising is too painful, just start with squeezing your butt-cheeks together over and over and over while you\\'re sitting, laying down, or standing. Do it as much as you can, until you\\'re exhausted from it. Do the same with the muscles in your upper thighs - squeeze and release, over and over. It may take a few days or up to 2 weeks, but if you do it as much as you can you\\'ll actually gain strength in your lower back and thighs and this can help with neuropathy and/or sciatica pain. Once you\\'re use to doing the butt and thigh squeezes, and it comes very easy to you, start doing floor exercises that involve lifting your legs - lifting them and bending them in any way you feel comfortable. Comfortable does not mean no strain. Comfortable means you\\'re not crying out in pain. If you can\\'t get down on the floor, do it in bed or while sitting in a chair. There are plenty of ways to left and bend your legs. use your imagination. Do all that you can. Start with reps of 10, then graduate to 15, then 25, then 35, etc. Once you find these types of exercises fairly easy to do (or at least a lot easier than when you started), once you can do 100 without screaming in pain, you can graduate to walking and climbing stairs for exercise. You should also be doing crunches at this stage. Start with tiny crunches when you hardly move up at all, that\\'s okay. Then over time you\\'ll be able to get to the point where you can touch your right  elbow to your left knee. Any reputable book or website that offers information on floor exercises can show you the proper way to do a crunch. If you are someone who is in great pain and has not been able to exercise for a long time, transitioning to this will be hard, but in most cases as long as you take it slowly you should be able to increase your abilities in just a few weeks, and each few weeks you\\'ll get stronger and more able. And during this time, as you strengthen the muscles in your body, it often helps alleviate the pain of neuropathy when it is caused by physical damage to the nerves.If your neuropathy is from diabetes then any kind of exercise will help keep your blood sugar in check and that can help reduce all affects of diabetes and possibly keep it from getting worse.> Make sure you wear very comfortable shoes (or sneakers) at all times. Forget what you look like, how your feet, ankles, and back are aligned are more important than looking pretty or handsome and having them out of alignment can be a cause of neuropathy or contributing factor that is making it worse. And if you have neuropathy in your feet it\\'s of extreme importance to never allow yourself to get any kind of blister or corn because it can eventually get so bad you\\'ll end up having to have an amputation of your foot or part of your foot/toes. You also need to protect your feet if you have numbness, because you can break a toe and not even know it. Better off wearing shoes all the time, even in the house, if you can\\'t feel your feet. And don\\'t assume that just because you\\'ve been wearing the same shoe/sneaker or same style for year that it\\'s okay to continue with it. Go to a store and try a bunch of shoes and sneaker on until you find a pair that makes you smile and say \"ahhhhh\" when you stand up and walk in them. If you\\'re seeing a doctor for neuropathy in your feet he may have a suggestion as to what type of shoe to wear. They will surely be expensive, but if you have health insurance that covers it that\\'s a good thing. If your doctor has no preference or you can\\'t afford the expensive shoes often prescribed for those with neuropathy, then just do as I suggest and get the most comfortable pair of shoes/sneakers you can find - and don\\'t stop looking until you find them.> Okay, this one most people won\\'t believe, and I can\\'t blame you since I find it hard to believe even though it works for me. But I have to list it because it really and truly does take away pain and makes me feel stronger and more balanced (balance is a problem many people with neuropathy have). I don\\'t know how or why it works. It might even be a matter of mind over matter (psychological), but frankly I don\\'t care - the fact is it works for me, it\\'s relatively cheap, and very easy to do/use. It\\'s called the IRenew bracelet. And each time I stop using it and come back to it I prove over and over that it reduces pain in my body, including the pain caused by neuropathy. When it first came out they cost about $20, but now you can buy it for as low as $5 in some places. They come in different colors and styles. Again, I have no idea how or why it works for me, but it does. The only reason I stop using it from time to time is because if I wear it in my sleep it catches on  my blanket and then I take it off and forget to put it back on. And every time I put it back on it relieves my back and leg pains. This is one of listings for them here on Amazon. It\\'s the kind I wear:IRenew Energized Well Bracelet - Black (Set Of 2)> Educate yourself on the subject and related subjects. The bottom line is you need to be an informed and educated patient/consumer in order to not get ripped off and in some cases just to get some relief. I highly recommend you read books on inflammation and reducing inflammation of the body, and seriously consider taking the actions and making the diet and lifestyle changes the authors suggest. Reducing inflammation may be helpful for those with neuropathy caused by diabetes too, or the kind of neuropathy that has no known cause. I recommend these books which will help you to understand the link between what you eat and inflammation and the link between inflammation and the causes of body pain and diseases:Inflammation NationChange Your Brain, Change Your Body: Use Your Brain to Get and Keep the Body You Have Always Wanted8 Weeks to Optimum Health: A Proven Program for Taking Full Advantage of Your Body\\'s Natural Healing PowerDr. Perricone\\'s 7 Secrets to Beauty, Health, and Longevity: The Miracle of Cellular RejuvenationOr any other books by Floyd Chilton, Dr. Amen, Dr. Weil, or Dr. Perricone, because all of them understand how inflammation can ravage the body, icluding causing or worsening diabetes and neuropathy, and what to do about it naturally.WARNING: When you have a medical problem of any kind you should not do anything exercises or take any vitamins or supplements w/o consulting your doctor first. Chances are you can do all of what I describe above without causing yourself any harm, and you\\'ll probably feel much better for it, but I feel the need to give this warning because everyone is different and I don\\'t want to recommend you do anything that might cause you problems. Just call your doctor and ask if you can do what ever it is you\\'re considering, he/she will probably say it\\'s okay and tell you that it\\'s a smart thing to do too.Wishing you all Peace, Happiness, Good Health, and Prosperity!'"
      ]
     },
     "execution_count": 279,
     "metadata": {},
     "output_type": "execute_result"
    }
   ],
   "source": [
    "df_new[df_new['word_count'] == 5425]['reviewText'].iloc[0]"
   ]
  },
  {
   "cell_type": "markdown",
   "metadata": {},
   "source": [
    "**Look at dist. instead of count.**"
   ]
  },
  {
   "cell_type": "markdown",
   "metadata": {},
   "source": [
    "### How many unique products were reviewed?"
   ]
  },
  {
   "cell_type": "code",
   "execution_count": 116,
   "metadata": {},
   "outputs": [
    {
     "name": "stdout",
     "output_type": "stream",
     "text": [
      "Number of Unique Products in the Electronic Category = 4517\n"
     ]
    }
   ],
   "source": [
    "uni_products = df_new['pos_neg'].groupby(df_new['asin']).count()\n",
    "print(\"Number of Unique Products in the Electronic Category = {}\".format(uni_products.count()))"
   ]
  },
  {
   "cell_type": "markdown",
   "metadata": {},
   "source": [
    "### Which product has the most number of reviews?"
   ]
  },
  {
   "cell_type": "code",
   "execution_count": 161,
   "metadata": {},
   "outputs": [
    {
     "name": "stdout",
     "output_type": "stream",
     "text": [
      "Top 10 Reviewed Products:\n",
      "\n",
      "asin\n",
      "B000GIPJY8    475\n",
      "B000NL0T1G    434\n",
      "B0000U1OCI    334\n",
      "B000G647Y8    299\n",
      "B000KUHFGM    287\n",
      "B0009RSP38    266\n",
      "B000AUIFCA    259\n",
      "B000GIQS34    254\n",
      "B00004OCLJ    254\n",
      "B000NB9LLA    245\n",
      "Name: pos_neg, dtype: int64\n",
      "\n",
      "Most Reviewed Product, B0010JLMO8 - has 475 reviews.\n"
     ]
    }
   ],
   "source": [
    "products_sort = uni_products.sort_values(ascending=False)\n",
    "print(\"Top 10 Reviewed Products:\\n\")\n",
    "print(products_sort[:10], end='\\n\\n')\n",
    "print('Most Reviewed Product, B0010JLMO8 - has {} reviews.'.format(products_sort.max()))"
   ]
  },
  {
   "cell_type": "markdown",
   "metadata": {},
   "source": [
    "**The product that has most reviews is a water bottle.**  \n",
    "__[Amazon Product Page](https://www.amazon.com/BlenderBottle-Classic-Discontinued-Style-20-Ounce/dp/B0010JLMO8/ref=sr_1_1?ie=UTF8&qid=1527670988&sr=8-1&keywords=B0010JLMO8)__\n",
    "<img width=\"833\" alt=\"second most reviewed_personal care\" src=\"https://user-images.githubusercontent.com/33208955/40735397-f408564c-63ef-11e8-8918-acdfa7997a73.png\">"
   ]
  },
  {
   "cell_type": "markdown",
   "metadata": {},
   "source": [
    "### Which product has the least number of reviews?"
   ]
  },
  {
   "cell_type": "code",
   "execution_count": 118,
   "metadata": {},
   "outputs": [
    {
     "name": "stdout",
     "output_type": "stream",
     "text": [
      "Bottom 10 Reviewed Products:\n",
      "\n",
      "asin\n",
      "B0001QNMSU    5\n",
      "B000GFSVCS    5\n",
      "B000GFSVDC    5\n",
      "B000GFSVGY    5\n",
      "B000GFSVOG    5\n",
      "B000GFSVUK    5\n",
      "B0001MIGCG    5\n",
      "B0001M7PAK    5\n",
      "B0001M3F72    5\n",
      "B000RFS118    2\n",
      "Name: pos_neg, dtype: int64\n",
      "\n",
      "Least Reviewed Product has 2 reviews.\n"
     ]
    }
   ],
   "source": [
    "print(\"Bottom 10 Reviewed Products:\\n\")\n",
    "print(products_sort[-10:], end='\\n\\n')\n",
    "print('Least Reviewed Product has {} reviews.'.format(products_sort.min()))"
   ]
  },
  {
   "cell_type": "markdown",
   "metadata": {},
   "source": [
    "**The product that has least reviews is a sleeping pills product.**  \n",
    "__[Amazon Product Page](https://www.amazon.com/Natrol-Melatonin-Release-Tablets-Count/dp/B000U5ZPJ6/ref=sr_1_1_a_it?s=home-garden&ie=UTF8&qid=1527671086&sr=8-1&keywords=B000U5ZPJ6)__\n",
    "<img width=\"635\" alt=\"least reviewed_personal care\" src=\"https://user-images.githubusercontent.com/33208955/40735476-1c4a011e-63f0-11e8-99e8-c3490d40af8f.png\">"
   ]
  },
  {
   "cell_type": "markdown",
   "metadata": {},
   "source": [
    "### Which product has the most number of POSITIVE reviews?"
   ]
  },
  {
   "cell_type": "code",
   "execution_count": 206,
   "metadata": {},
   "outputs": [],
   "source": [
    "df_pos_products = df_new.loc[df_new['pos_neg']==1]\n",
    "pos_products = df_pos_products['pos_neg'].groupby(df_pos_products['asin']).count()"
   ]
  },
  {
   "cell_type": "code",
   "execution_count": 212,
   "metadata": {},
   "outputs": [
    {
     "name": "stdout",
     "output_type": "stream",
     "text": [
      "Top 10 Reviewed Products:\n",
      "\n",
      "asin\n",
      "B000GIPJY8    430\n",
      "B000NL0T1G    402\n",
      "B0000U1OCI    286\n",
      "B000KUHFGM    244\n",
      "B0009RSP38    241\n",
      "B00004OCLJ    236\n",
      "B000GIQS34    231\n",
      "B000AUIFCA    231\n",
      "B000NB9LLA    227\n",
      "B000050FDY    222\n",
      "Name: pos_neg, dtype: int64\n",
      "\n",
      "Most Reviewed Product, B000GIPJY8 - has 430 positive reviews.\n"
     ]
    }
   ],
   "source": [
    "pos_products_sort = pos_products.sort_values(ascending=False)\n",
    "print(\"Top 10 Reviewed Products:\\n\")\n",
    "print(pos_products_sort[:10], end='\\n\\n')\n",
    "print('Most Reviewed Product, B000GIPJY8 - has {} positive reviews.'.format(pos_products_sort.max()))"
   ]
  },
  {
   "cell_type": "markdown",
   "metadata": {},
   "source": [
    "<img width=\"860\" alt=\"most pos\" src=\"https://user-images.githubusercontent.com/33208955/40799542-b8701ea2-64c2-11e8-9802-f444299c5286.png\">"
   ]
  },
  {
   "cell_type": "code",
   "execution_count": 209,
   "metadata": {
    "collapsed": true
   },
   "outputs": [],
   "source": [
    "df_neg_products = df_new.loc[df_new['pos_neg']==0]\n",
    "neg_products = df_neg_products['pos_neg'].groupby(df_neg_products['asin']).count()"
   ]
  },
  {
   "cell_type": "code",
   "execution_count": 211,
   "metadata": {},
   "outputs": [
    {
     "name": "stdout",
     "output_type": "stream",
     "text": [
      "Top 10 Reviewed Products:\n",
      "\n",
      "asin\n",
      "B000G647Y8    78\n",
      "B000GP1O4U    78\n",
      "B0001X22WU    49\n",
      "B0000U1OCI    48\n",
      "B000CCI4YU    47\n",
      "B000CRFORU    45\n",
      "B000GIPJY8    45\n",
      "B000BABW5Q    44\n",
      "B000EG8HLE    43\n",
      "B000KUHFGM    43\n",
      "Name: pos_neg, dtype: int64\n",
      "\n",
      "Most Reviewed Product, B000G647Y8 - has 78 negative reviews.\n"
     ]
    }
   ],
   "source": [
    "neg_products_sort = neg_products.sort_values(ascending=False)\n",
    "print(\"Top 10 Reviewed Products:\\n\")\n",
    "print(neg_products_sort[:10], end='\\n\\n')\n",
    "print('Most Reviewed Product, B000G647Y8 - has {} negative reviews.'.format(neg_products_sort.max()))"
   ]
  },
  {
   "cell_type": "markdown",
   "metadata": {},
   "source": [
    "<img width=\"508\" alt=\"most neg\" src=\"https://user-images.githubusercontent.com/33208955/40799580-da0aba72-64c2-11e8-910c-0152f08a26e1.png\">"
   ]
  },
  {
   "cell_type": "markdown",
   "metadata": {
    "collapsed": true
   },
   "source": [
    "## Sentiment Analysis"
   ]
  },
  {
   "cell_type": "code",
   "execution_count": 89,
   "metadata": {
    "collapsed": true
   },
   "outputs": [],
   "source": [
    "pos_rev = ' '.join(df_new['text_comb'].where(df_new['pos_neg']==1).dropna().tolist())\n",
    "neg_rev = ' '.join(df_new['text_comb'].where(df_new['pos_neg']==0).dropna().tolist())\n",
    "all_rev = ' '.join(df_new['text_comb'].dropna().tolist())"
   ]
  },
  {
   "cell_type": "code",
   "execution_count": 90,
   "metadata": {},
   "outputs": [
    {
     "data": {
      "text/plain": [
       "Text(0.5,1,'Negative Reviews')"
      ]
     },
     "execution_count": 90,
     "metadata": {},
     "output_type": "execute_result"
    },
    {
     "data": {
      "image/png": "[encoded data removed]",
      "text/plain": [
       "<matplotlib.figure.Figure at 0x11c068e48>"
      ]
     },
     "metadata": {},
     "output_type": "display_data"
    },
    {
     "data": {
      "image/png": "[encoded data removed]",
      "text/plain": [
       "<matplotlib.figure.Figure at 0x1212cc550>"
      ]
     },
     "metadata": {},
     "output_type": "display_data"
    }
   ],
   "source": [
    "wordcloud_all = wc.WordCloud(background_color='gray', max_font_size=50, relative_scaling=.5).generate(all_rev)\n",
    "plt.figure(figsize=(15, 15))\n",
    "plt.imshow(wordcloud_all)\n",
    "plt.axis(\"off\")\n",
    "plt.title('All Reviews', fontsize=18)\n",
    "\n",
    "wordcloud_pos = wc.WordCloud(background_color='gray', max_font_size=50, relative_scaling=.5).generate(pos_rev)\n",
    "plt.figure(figsize=(15, 15), dpi=80)\n",
    "gs = gridspec.GridSpec(1, 2)\n",
    "plt.subplot(gs[0, 0])\n",
    "plt.imshow(wordcloud_pos)\n",
    "plt.axis(\"off\")\n",
    "plt.title('Positive Reviews', fontsize=18)\n",
    "\n",
    "wordcloud_neg = wc.WordCloud(background_color='gray', max_font_size=50, relative_scaling=.5).generate(neg_rev)\n",
    "plt.subplot(gs[0, 1])\n",
    "plt.imshow(wordcloud_neg)\n",
    "plt.axis(\"off\")\n",
    "plt.title('Negative Reviews', fontsize=18)"
   ]
  },
  {
   "cell_type": "markdown",
   "metadata": {},
   "source": [
    "### Is the sentiment of the review related to the rating?"
   ]
  },
  {
   "cell_type": "code",
   "execution_count": 213,
   "metadata": {
    "collapsed": true
   },
   "outputs": [],
   "source": [
    "df_new['sentiment'] = df_new['text_comb'].apply(lambda x: TextBlob(x).sentiment[0] )"
   ]
  },
  {
   "cell_type": "code",
   "execution_count": 214,
   "metadata": {
    "collapsed": true
   },
   "outputs": [],
   "source": [
    "df_new['senti_pos_neg'] = [1 if x > 0 else 0 for x in df_new['sentiment']]"
   ]
  },
  {
   "cell_type": "code",
   "execution_count": 215,
   "metadata": {},
   "outputs": [
    {
     "data": {
      "text/plain": [
       "0.2084"
      ]
     },
     "execution_count": 215,
     "metadata": {},
     "output_type": "execute_result"
    }
   ],
   "source": [
    "abs(df_new['senti_pos_neg']-df_new['pos_neg']).sum()/abs(df_new['senti_pos_neg']-df_new['pos_neg']).count()"
   ]
  },
  {
   "cell_type": "markdown",
   "metadata": {},
   "source": [
    "**饼状图！！！**"
   ]
  },
  {
   "cell_type": "markdown",
   "metadata": {},
   "source": [
    "## Classification Models  "
   ]
  },
  {
   "cell_type": "markdown",
   "metadata": {},
   "source": [
    "#### Split train and test datasets"
   ]
  },
  {
   "cell_type": "code",
   "execution_count": 216,
   "metadata": {},
   "outputs": [
    {
     "name": "stdout",
     "output_type": "stream",
     "text": [
      "(53600,)\n",
      "(26400,)\n",
      "(53600,)\n",
      "(26400,)\n"
     ]
    }
   ],
   "source": [
    "X_train, X_test, y_train, y_test = train_test_split(df_new['text_comb'], df_new['pos_neg'], test_size=0.33, random_state=42)\n",
    "print (X_train.shape)\n",
    "print (X_test.shape)\n",
    "print (y_train.shape)\n",
    "print (y_test.shape)"
   ]
  },
  {
   "cell_type": "markdown",
   "metadata": {},
   "source": [
    "#### Vetorize the features using TF-IDF"
   ]
  },
  {
   "cell_type": "code",
   "execution_count": 217,
   "metadata": {
    "collapsed": true
   },
   "outputs": [],
   "source": [
    "vectorizer = TfidfVectorizer()\n",
    "X_train_matrix = vectorizer.fit_transform(X_train)\n",
    "X_test_matrix = vectorizer.transform(X_test)"
   ]
  },
  {
   "cell_type": "markdown",
   "metadata": {},
   "source": [
    "### Model 1: MultinomialNB"
   ]
  },
  {
   "cell_type": "code",
   "execution_count": 218,
   "metadata": {},
   "outputs": [
    {
     "name": "stdout",
     "output_type": "stream",
     "text": [
      "MNB Accuracy: 82.62%\n",
      "MNB Precision Score: 82.99%\n",
      "MNB Recall Score: 98.75%\n",
      "MNB Data F1 Score: 0.9019\n"
     ]
    }
   ],
   "source": [
    "mnb = MultinomialNB(alpha=.01)\n",
    "\n",
    "mnb.fit(X_train_matrix, y_train)\n",
    "mnb_pred = mnb.predict(X_test_matrix)\n",
    "\n",
    "mnb_acc = accuracy_score(y_test, mnb_pred)\n",
    "mnb_prec = precision_score(y_test, mnb_pred)\n",
    "mnb_rec = recall_score(y_test, mnb_pred)\n",
    "mnb_f1 = f1_score(y_test, mnb_pred)\n",
    "\n",
    "print('MNB Accuracy: {0:.2f}%'.format(mnb_acc*100))\n",
    "print('MNB Precision Score: {0:.2f}%'.format(mnb_prec*100))\n",
    "print('MNB Recall Score: {0:.2f}%'.format(mnb_rec*100))\n",
    "print('MNB Data F1 Score: {0:.4f}'.format(mnb_f1))"
   ]
  },
  {
   "cell_type": "code",
   "execution_count": 219,
   "metadata": {},
   "outputs": [
    {
     "name": "stdout",
     "output_type": "stream",
     "text": [
      "Confusion matrix:\n",
      "[[  722  4322]\n",
      " [  266 21090]]\n",
      "\n",
      "---------------\n",
      "[['TN' 'FP']\n",
      " ['FN' 'TP']]\n"
     ]
    }
   ],
   "source": [
    "mnb_cfm = confusion_matrix(y_test, mnb_pred)\n",
    "print(\"Confusion matrix:\")\n",
    "print(mnb_cfm, end='\\n\\n')\n",
    "print('-'*15)\n",
    "print(np.array([['TN', 'FP'],[ 'FN' , 'TP']]))"
   ]
  },
  {
   "cell_type": "code",
   "execution_count": 220,
   "metadata": {},
   "outputs": [
    {
     "data": {
      "text/plain": [
       "<matplotlib.colorbar.Colorbar at 0x19cea4588>"
      ]
     },
     "execution_count": 220,
     "metadata": {},
     "output_type": "execute_result"
    },
    {
     "data": {
      "image/png": "[encoded data removed]",
      "text/plain": [
       "<matplotlib.figure.Figure at 0x1979b7eb8>"
      ]
     },
     "metadata": {},
     "output_type": "display_data"
    }
   ],
   "source": [
    "plt.imshow(mnb_cfm)\n",
    "\n",
    "for i, j in itertools.product(range(mnb_cfm.shape[0]), range(mnb_cfm.shape[1])):\n",
    "    plt.text(j, i, mnb_cfm[i, j],\n",
    "             horizontalalignment=\"center\",\n",
    "             color=\"white\")\n",
    "\n",
    "plt.ylabel('True label (Recall)')\n",
    "plt.xlabel('Predicted label (Precision)')\n",
    "plt.title('Multinomial | Confusion Matrix')\n",
    "plt.colorbar()"
   ]
  },
  {
   "cell_type": "markdown",
   "metadata": {},
   "source": [
    "### Model 2: SVM"
   ]
  },
  {
   "cell_type": "code",
   "execution_count": 221,
   "metadata": {},
   "outputs": [
    {
     "name": "stdout",
     "output_type": "stream",
     "text": [
      "Raw Data Accuracy: 80.89%\n",
      "Raw Data Precision Score: 80.89%\n",
      "Raw Data Recall Score: 100.00%\n",
      "Raw Data F1 Score: 0.8944\n"
     ]
    }
   ],
   "source": [
    "svm = SVC()\n",
    "\n",
    "svm.fit(X_train_matrix, y_train)\n",
    "svm_pred = svm.predict(X_test_matrix)\n",
    "\n",
    "svm_acc = accuracy_score(y_test,svm_pred)\n",
    "svm_prec = precision_score(y_test, svm_pred)\n",
    "svm_rec = recall_score(y_test, svm_pred)\n",
    "svm_f1 = f1_score(y_test, svm_pred)\n",
    "\n",
    "print('Raw Data Accuracy: {0:.2f}%'.format(svm_acc*100))\n",
    "print('Raw Data Precision Score: {0:.2f}%'.format(svm_prec*100))\n",
    "print('Raw Data Recall Score: {0:.2f}%'.format(svm_rec*100))\n",
    "print('Raw Data F1 Score: {0:.4f}'.format(svm_f1))"
   ]
  },
  {
   "cell_type": "markdown",
   "metadata": {},
   "source": [
    "### Model 3: Logistic Regression"
   ]
  },
  {
   "cell_type": "code",
   "execution_count": 222,
   "metadata": {},
   "outputs": [
    {
     "name": "stdout",
     "output_type": "stream",
     "text": [
      "logreg Accuracy: 83.53%\n",
      "logreg Precision Score: 83.32%\n",
      "logreg Recall Score: 99.58%\n",
      "logreg F1 Score: 0.9073\n"
     ]
    }
   ],
   "source": [
    "logreg = LogisticRegression(C=0.1)\n",
    "\n",
    "logreg.fit(X_train_matrix, y_train)\n",
    "log_pred = logreg.predict(X_test_matrix)\n",
    "\n",
    "log_acc = accuracy_score(y_test,log_pred)\n",
    "log_prec = precision_score(y_test, log_pred)\n",
    "log_rec = recall_score(y_test, log_pred)\n",
    "log_f1 = f1_score(y_test, log_pred)\n",
    "\n",
    "print('logreg Accuracy: {0:.2f}%'.format(log_acc*100))\n",
    "print('logreg Precision Score: {0:.2f}%'.format(log_prec*100))\n",
    "print('logreg Recall Score: {0:.2f}%'.format(log_rec*100))\n",
    "print('logreg F1 Score: {0:.4f}'.format(log_f1))"
   ]
  },
  {
   "cell_type": "code",
   "execution_count": 223,
   "metadata": {},
   "outputs": [
    {
     "name": "stdout",
     "output_type": "stream",
     "text": [
      "Confusion matrix:\n",
      "[[  787  4257]\n",
      " [   90 21266]]\n",
      "\n",
      "---------------\n",
      "[['TN' 'FP']\n",
      " ['FN' 'TP']]\n"
     ]
    }
   ],
   "source": [
    "log_cfm = confusion_matrix(y_test, log_pred)\n",
    "print(\"Confusion matrix:\")\n",
    "print(log_cfm, end='\\n\\n')\n",
    "print('-'*15)\n",
    "print(np.array([['TN', 'FP'],[ 'FN' , 'TP']]))"
   ]
  },
  {
   "cell_type": "code",
   "execution_count": 224,
   "metadata": {},
   "outputs": [
    {
     "data": {
      "text/plain": [
       "<matplotlib.colorbar.Colorbar at 0x195281588>"
      ]
     },
     "execution_count": 224,
     "metadata": {},
     "output_type": "execute_result"
    },
    {
     "data": {
      "image/png": "[encoded data removed]",
      "text/plain": [
       "<matplotlib.figure.Figure at 0x1979b71d0>"
      ]
     },
     "metadata": {},
     "output_type": "display_data"
    }
   ],
   "source": [
    "plt.imshow(log_cfm)\n",
    "\n",
    "for i, j in itertools.product(range(log_cfm.shape[0]), range(log_cfm.shape[1])):\n",
    "    plt.text(j, i, log_cfm[i, j],\n",
    "             horizontalalignment=\"center\",\n",
    "             color=\"white\")\n",
    "\n",
    "plt.ylabel('True label (Recall)')\n",
    "plt.xlabel('Predicted label (Precision)')\n",
    "plt.title('Multinomial | Confusion Matrix')\n",
    "plt.colorbar()"
   ]
  },
  {
   "cell_type": "markdown",
   "metadata": {},
   "source": [
    "## Text Clustering"
   ]
  },
  {
   "cell_type": "code",
   "execution_count": 225,
   "metadata": {},
   "outputs": [
    {
     "name": "stdout",
     "output_type": "stream",
     "text": [
      "Number of total features: 91930\n"
     ]
    }
   ],
   "source": [
    "text = vectorizer.transform(df_new['text_comb'])\n",
    "\n",
    "feature_names = vectorizer.get_feature_names()\n",
    "print(\"Number of total features: {}\".format(len(feature_names)))"
   ]
  },
  {
   "cell_type": "code",
   "execution_count": 242,
   "metadata": {},
   "outputs": [
    {
     "name": "stdout",
     "output_type": "stream",
     "text": [
      "Number of total features: 43003\n"
     ]
    }
   ],
   "source": [
    "vectorizer_neg = TfidfVectorizer()\n",
    "neg_text = vectorizer_neg.fit_transform(df_neg_products['text_comb'])\n",
    "neg_feature_names = vectorizer_neg.get_feature_names()\n",
    "print(\"Number of total features: {}\".format(len(neg_feature_names)))"
   ]
  },
  {
   "cell_type": "markdown",
   "metadata": {},
   "source": [
    "### Latent Factor Model"
   ]
  },
  {
   "cell_type": "code",
   "execution_count": 226,
   "metadata": {
    "collapsed": true
   },
   "outputs": [],
   "source": [
    "lda = LatentDirichletAllocation(n_components=10, max_iter=5,\n",
    "                                learning_method='online',\n",
    "                                learning_offset=50.,\n",
    "                                random_state=0)"
   ]
  },
  {
   "cell_type": "code",
   "execution_count": 227,
   "metadata": {
    "collapsed": true
   },
   "outputs": [],
   "source": [
    "#num_top_words = 15\n",
    "#num_top_topics = 10 \n",
    "\n",
    "#def display_topics(H, W, feature_names, documents, no_top_words, no_top_documents):\n",
    "    #for topic_idx, topic in enumerate(H):\n",
    "       # print (\"Topic %d:\" % (topic_idx))\n",
    "       # print (\" \".join([feature_names[i]\n",
    "                        #for i in topic.argsort()[:-no_top_words - 1:-1]]))\n",
    "        #top_doc_indices = np.argsort( W[:,topic_idx] )[::-1][0:no_top_documents]\n",
    "        #for doc_index in top_doc_indices:\n",
    "        #    print (documents[doc_index])"
   ]
  },
  {
   "cell_type": "markdown",
   "metadata": {
    "collapsed": true
   },
   "source": [
    "def display_topics(H, W, feature_names, documents, no_top_words, no_top_documents):\n",
    "    for topic_idx, topic in enumerate(H):\n",
    "        print (\"Topic %d:\" % (topic_idx))\n",
    "        print (\" \".join([feature_names[i]\n",
    "                        for i in topic.argsort()[:-no_top_words - 1:-1]]))\n",
    "        top_doc_indices = np.argsort( W[:,topic_idx] )[::-1][0:no_top_documents]\n",
    "        for doc_index in top_doc_indices:\n",
    "            print (documents[doc_index])"
   ]
  },
  {
   "cell_type": "code",
   "execution_count": 228,
   "metadata": {},
   "outputs": [
    {
     "data": {
      "text/plain": [
       "LatentDirichletAllocation(batch_size=128, doc_topic_prior=None,\n",
       "             evaluate_every=-1, learning_decay=0.7,\n",
       "             learning_method='online', learning_offset=50.0,\n",
       "             max_doc_update_iter=100, max_iter=5, mean_change_tol=0.001,\n",
       "             n_components=10, n_jobs=1, n_topics=None, perp_tol=0.1,\n",
       "             random_state=0, topic_word_prior=None,\n",
       "             total_samples=1000000.0, verbose=0)"
      ]
     },
     "execution_count": 228,
     "metadata": {},
     "output_type": "execute_result"
    }
   ],
   "source": [
    "lda.fit(text)"
   ]
  },
  {
   "cell_type": "code",
   "execution_count": 243,
   "metadata": {},
   "outputs": [
    {
     "data": {
      "text/plain": [
       "LatentDirichletAllocation(batch_size=128, doc_topic_prior=None,\n",
       "             evaluate_every=-1, learning_decay=0.7,\n",
       "             learning_method='online', learning_offset=50.0,\n",
       "             max_doc_update_iter=100, max_iter=5, mean_change_tol=0.001,\n",
       "             n_components=10, n_jobs=1, n_topics=None, perp_tol=0.1,\n",
       "             random_state=0, topic_word_prior=None,\n",
       "             total_samples=1000000.0, verbose=0)"
      ]
     },
     "execution_count": 243,
     "metadata": {},
     "output_type": "execute_result"
    }
   ],
   "source": [
    "lda.fit(neg_text)"
   ]
  },
  {
   "cell_type": "code",
   "execution_count": 244,
   "metadata": {},
   "outputs": [
    {
     "name": "stdout",
     "output_type": "stream",
     "text": [
      "\n",
      "Topics in LDA model:\n",
      "Topic #0: product work one like good would use get didnt better time really much taste well\n",
      "Topic #1: ps3 thoughnot workingit youf mrdicinal gelsa recommendbalanceuticals priceyimpulse seabuckthorn owni laederal nightevery tohold theconstructiontools firstbut\n",
      "Topic #2: rail clamp fr propylparaben sagging accoutrement insecticide dissappointing visitor disrupt fibroid chickenhow saladpretty lightdoesnt generoustoo\n",
      "Topic #3: carson 75mg polyethylene technu puzzle retraction acetyl croscarmellose toma tget teo ment curative copier glovesthey\n",
      "Topic #4: smashed wheybolic syntha6 pattys34 34aunt 610solubility alaskan fukushima 34wholesomes34 cccd taiwanese jokeoverheats lastsconsattachments skinguaranteed prospoweful\n",
      "Topic #5: sewer trashbags humanofort jamming septum telephone abroad positioni omronbetter casenot largeno deviated supercharge ij hmmmmmm\n",
      "Topic #6: mony overwhelms tuscan chelation assumptionthat wrongsave moneydont saysiwas bebut ecologically binding produte cous dubbed skinthen\n",
      "Topic #7: michael enantiomer racemate nutrivention expenisive kendall awfulpsyllium anythingthrew ouncessupposed moneyyuk awaywasted rechargables fairi rsla lateri\n",
      "Topic #8: threader bausch dummy lomb tomato prodcut plating dorsal halo mistakei clarity supercharged doserooster combnot substantiated\n",
      "Topic #9: mac maglite nioxin cleanthe highway shakiness mary out34 aphid offs bah eveready castirons apc enuf\n",
      "\n"
     ]
    }
   ],
   "source": [
    "print(\"\\nTopics in LDA model:\")\n",
    "print_top_words(lda, neg_feature_names, num_top_words)"
   ]
  },
  {
   "cell_type": "code",
   "execution_count": 229,
   "metadata": {
    "collapsed": true
   },
   "outputs": [],
   "source": [
    "num_top_words = 15\n",
    "\n",
    "def print_top_words(model, feature_names, n_top_words):\n",
    "    for topic_idx, topic in enumerate(model.components_):\n",
    "        message = \"Topic #%d: \" % topic_idx\n",
    "        message += \" \".join([feature_names[i]\n",
    "    for i in topic.argsort()[:-n_top_words - 1:-1]])\n",
    "        print(message)\n",
    "    print()"
   ]
  },
  {
   "cell_type": "code",
   "execution_count": 230,
   "metadata": {},
   "outputs": [
    {
     "name": "stdout",
     "output_type": "stream",
     "text": [
      "\n",
      "Topics in LDA model:\n",
      "Topic #0: underpads aide phillips taylor granddaughter eas cashmere underpad cheating buzzing bausch ed vertebra loupe lomb\n",
      "Topic #1: isolate xlear retinol zma selenium krill lecithin hcl b100 magnesium crushing borage vcaps mg chelated\n",
      "Topic #2: haha focused bacon bf craft precharged recomended anticipate hmmm multipack guitar distortion donate ti alaska\n",
      "Topic #3: paw lcarnitine brilliant bioperine cataract q10 dymatize flavour peripheral productive scope nephew fo convince flint\n",
      "Topic #4: caliper degeneration barking ocd howard apt macular motorcycle rooster penetrex wheres breathes utilizing ob determining\n",
      "Topic #5: emergenc bromelain magnifying magnification sweetner allot irritable grandkids palpitation earned slit edema engine piercing shaping\n",
      "Topic #6: parker styptic platinum pole astra hill classy productbut royale histainless novice overworked fought armband truefitt\n",
      "Topic #7: handled basin eyesight carnitine soo newspaper borrowed buffer alleviating squeak pb8 ecodent tiredness himalaya philosophy\n",
      "Topic #8: organizer tar thinkthin rhodiola moleskin jetdry tick boo flea merkurs idk vintage maxell irish realy\n",
      "Topic #9: product great good work use one like well get time really would take price love\n",
      "\n"
     ]
    }
   ],
   "source": [
    "print(\"\\nTopics in LDA model:\")\n",
    "print_top_words(lda, feature_names, num_top_words)"
   ]
  },
  {
   "cell_type": "code",
   "execution_count": 267,
   "metadata": {},
   "outputs": [
    {
     "data": {
      "text/plain": [
       "LatentDirichletAllocation(batch_size=128, doc_topic_prior=None,\n",
       "             evaluate_every=-1, learning_decay=0.7,\n",
       "             learning_method='online', learning_offset=50.0,\n",
       "             max_doc_update_iter=100, max_iter=5, mean_change_tol=0.001,\n",
       "             n_components=10, n_jobs=1, n_topics=None, perp_tol=0.1,\n",
       "             random_state=0, topic_word_prior=None,\n",
       "             total_samples=1000000.0, verbose=0)"
      ]
     },
     "execution_count": 267,
     "metadata": {},
     "output_type": "execute_result"
    }
   ],
   "source": [
    "lda.fit(neg_text.toarray())"
   ]
  },
  {
   "cell_type": "code",
   "execution_count": 269,
   "metadata": {},
   "outputs": [],
   "source": [
    "num_topics = 10\n",
    "num_top_words = 15\n",
    "lda_dec = decomposition.LatentDirichletAllocation(n_components=num_topics, random_state=1)"
   ]
  },
  {
   "cell_type": "code",
   "execution_count": null,
   "metadata": {
    "collapsed": true
   },
   "outputs": [],
   "source": [
    "vocab = np.array(neg_feature_names)"
   ]
  },
  {
   "cell_type": "code",
   "execution_count": 272,
   "metadata": {},
   "outputs": [],
   "source": [
    "neg_lda_topic_words = []\n",
    "\n",
    "for topic in lda.components_:\n",
    "    word_idx = np.argsort(topic)[::-1][0:num_top_words]\n",
    "    topic_words.append([vocab[i] for i in word_idx])"
   ]
  },
  {
   "cell_type": "code",
   "execution_count": 273,
   "metadata": {},
   "outputs": [
    {
     "data": {
      "text/plain": [
       "[]"
      ]
     },
     "execution_count": 273,
     "metadata": {},
     "output_type": "execute_result"
    }
   ],
   "source": [
    "neg_lda_topic_words"
   ]
  },
  {
   "cell_type": "code",
   "execution_count": 270,
   "metadata": {},
   "outputs": [
    {
     "name": "stdout",
     "output_type": "stream",
     "text": [
      "\n",
      "Topics in LDA model:\n",
      "Topic #0: product work one like good would use get didnt better time really much taste well\n",
      "Topic #1: ps3 thoughnot workingit youf mrdicinal gelsa recommendbalanceuticals priceyimpulse seabuckthorn owni laederal nightevery tohold theconstructiontools firstbut\n",
      "Topic #2: rail clamp fr propylparaben sagging accoutrement insecticide dissappointing visitor disrupt fibroid chickenhow saladpretty lightdoesnt generoustoo\n",
      "Topic #3: carson 75mg polyethylene technu puzzle retraction acetyl croscarmellose toma tget teo ment curative copier glovesthey\n",
      "Topic #4: smashed wheybolic syntha6 pattys34 34aunt 610solubility alaskan fukushima 34wholesomes34 cccd taiwanese jokeoverheats lastsconsattachments skinguaranteed prospoweful\n",
      "Topic #5: sewer trashbags humanofort jamming septum telephone abroad positioni omronbetter casenot largeno deviated supercharge ij hmmmmmm\n",
      "Topic #6: mony overwhelms tuscan chelation assumptionthat wrongsave moneydont saysiwas bebut ecologically binding produte cous dubbed skinthen\n",
      "Topic #7: michael enantiomer racemate nutrivention expenisive kendall awfulpsyllium anythingthrew ouncessupposed moneyyuk awaywasted rechargables fairi rsla lateri\n",
      "Topic #8: threader bausch dummy lomb tomato prodcut plating dorsal halo mistakei clarity supercharged doserooster combnot substantiated\n",
      "Topic #9: mac maglite nioxin cleanthe highway shakiness mary out34 aphid offs bah eveready castirons apc enuf\n",
      "\n"
     ]
    }
   ],
   "source": [
    "print(\"\\nTopics in LDA model:\")\n",
    "print_top_words(lda, vocab, num_top_words)"
   ]
  },
  {
   "cell_type": "code",
   "execution_count": 231,
   "metadata": {
    "collapsed": true
   },
   "outputs": [],
   "source": [
    "#lda_W = lda.transform(text)  # word to topics matrix (H) \n",
    "#lda_H = lda.components_  # topics to documents matrix (W)"
   ]
  },
  {
   "cell_type": "code",
   "execution_count": 232,
   "metadata": {
    "collapsed": true
   },
   "outputs": [],
   "source": [
    "#feature_name = vectorizer.get_feature_names()"
   ]
  },
  {
   "cell_type": "code",
   "execution_count": 233,
   "metadata": {
    "collapsed": true
   },
   "outputs": [],
   "source": [
    "#display_topics(lda_H, lda_W, feature_names, df_new.text_comb, num_top_words, num_top_topics)"
   ]
  },
  {
   "cell_type": "code",
   "execution_count": 234,
   "metadata": {
    "collapsed": true
   },
   "outputs": [],
   "source": [
    "#print(\"\\nTopics in LDA model:\")\n",
    "#print_top_words(lda, feature_names, num_top_words)"
   ]
  },
  {
   "cell_type": "code",
   "execution_count": 245,
   "metadata": {
    "collapsed": true
   },
   "outputs": [],
   "source": [
    "from sklearn import decomposition"
   ]
  },
  {
   "cell_type": "code",
   "execution_count": 246,
   "metadata": {
    "collapsed": true
   },
   "outputs": [],
   "source": [
    "num_topics = 10\n",
    "num_top_words = 15\n",
    "nmf = decomposition.NMF(n_components=num_topics, random_state=1)"
   ]
  },
  {
   "cell_type": "code",
   "execution_count": 247,
   "metadata": {
    "collapsed": true
   },
   "outputs": [],
   "source": [
    "doctopic = nmf.fit_transform(neg_text.toarray())"
   ]
  },
  {
   "cell_type": "code",
   "execution_count": 252,
   "metadata": {},
   "outputs": [],
   "source": [
    "vocab = np.array(neg_feature_names)"
   ]
  },
  {
   "cell_type": "code",
   "execution_count": 253,
   "metadata": {},
   "outputs": [],
   "source": [
    "topic_words = []\n",
    "\n",
    "for topic in nmf.components_:\n",
    "    word_idx = np.argsort(topic)[::-1][0:num_top_words]\n",
    "    topic_words.append([vocab[i] for i in word_idx])"
   ]
  },
  {
   "cell_type": "code",
   "execution_count": 265,
   "metadata": {
    "scrolled": true
   },
   "outputs": [
    {
     "data": {
      "text/plain": [
       "[['one',\n",
       "  'use',\n",
       "  'would',\n",
       "  'get',\n",
       "  'back',\n",
       "  'good',\n",
       "  'like',\n",
       "  'time',\n",
       "  'pad',\n",
       "  'foot',\n",
       "  'much',\n",
       "  'little',\n",
       "  'size',\n",
       "  'small',\n",
       "  'first'],\n",
       " ['taste',\n",
       "  'bar',\n",
       "  'protein',\n",
       "  'flavor',\n",
       "  'chocolate',\n",
       "  'like',\n",
       "  'sugar',\n",
       "  'peanut',\n",
       "  'good',\n",
       "  'butter',\n",
       "  'sweet',\n",
       "  'bad',\n",
       "  'eat',\n",
       "  'texture',\n",
       "  'calorie'],\n",
       " ['didnt',\n",
       "  'difference',\n",
       "  'notice',\n",
       "  'anything',\n",
       "  'really',\n",
       "  'help',\n",
       "  'see',\n",
       "  'much',\n",
       "  'month',\n",
       "  'feel',\n",
       "  'maybe',\n",
       "  'took',\n",
       "  'sure',\n",
       "  'effect',\n",
       "  'taking'],\n",
       " ['pill',\n",
       "  'taking',\n",
       "  'take',\n",
       "  'day',\n",
       "  'supplement',\n",
       "  'vitamin',\n",
       "  'capsule',\n",
       "  'stomach',\n",
       "  'effect',\n",
       "  'tablet',\n",
       "  'week',\n",
       "  'took',\n",
       "  'swallow',\n",
       "  'time',\n",
       "  'bottle'],\n",
       " ['razor',\n",
       "  'shave',\n",
       "  'blade',\n",
       "  'hair',\n",
       "  'shaver',\n",
       "  'shaving',\n",
       "  'close',\n",
       "  'cut',\n",
       "  'face',\n",
       "  'get',\n",
       "  'skin',\n",
       "  'norelco',\n",
       "  'trimmer',\n",
       "  'braun',\n",
       "  'electric'],\n",
       " ['battery',\n",
       "  'last',\n",
       "  'charge',\n",
       "  'month',\n",
       "  'year',\n",
       "  'one',\n",
       "  'time',\n",
       "  'long',\n",
       "  'dead',\n",
       "  'charger',\n",
       "  'lasted',\n",
       "  'trimmer',\n",
       "  'energizer',\n",
       "  'two',\n",
       "  'duracell'],\n",
       " ['product',\n",
       "  'good',\n",
       "  'money',\n",
       "  'waste',\n",
       "  'used',\n",
       "  'result',\n",
       "  'using',\n",
       "  'recommend',\n",
       "  'buy',\n",
       "  'review',\n",
       "  'would',\n",
       "  'better',\n",
       "  'ingredient',\n",
       "  'price',\n",
       "  'company'],\n",
       " ['smell',\n",
       "  'like',\n",
       "  'oil',\n",
       "  'strong',\n",
       "  'scent',\n",
       "  'bottle',\n",
       "  'skin',\n",
       "  'bad',\n",
       "  'lavender',\n",
       "  'stuff',\n",
       "  'nice',\n",
       "  'odor',\n",
       "  'really',\n",
       "  'deodorant',\n",
       "  'use'],\n",
       " ['work',\n",
       "  'well',\n",
       "  'doesnt',\n",
       "  'ok',\n",
       "  'better',\n",
       "  'star',\n",
       "  'others',\n",
       "  'may',\n",
       "  'tried',\n",
       "  'okay',\n",
       "  'great',\n",
       "  'seem',\n",
       "  'people',\n",
       "  'didnt',\n",
       "  'say'],\n",
       " ['brush',\n",
       "  'head',\n",
       "  'bristle',\n",
       "  'teeth',\n",
       "  'toothbrush',\n",
       "  'clean',\n",
       "  'handle',\n",
       "  'hair',\n",
       "  'soft',\n",
       "  'soap',\n",
       "  'ok',\n",
       "  'shaving',\n",
       "  'sonicare',\n",
       "  'badger',\n",
       "  'get']]"
      ]
     },
     "execution_count": 265,
     "metadata": {},
     "output_type": "execute_result"
    }
   ],
   "source": [
    "topic_words"
   ]
  },
  {
   "cell_type": "code",
   "execution_count": 254,
   "metadata": {
    "collapsed": true
   },
   "outputs": [],
   "source": [
    "doctopic = doctopic / np.sum(doctopic, axis=1, keepdims=True)"
   ]
  },
  {
   "cell_type": "code",
   "execution_count": 266,
   "metadata": {},
   "outputs": [
    {
     "data": {
      "text/plain": [
       "array([[0.00726018, 0.        , 0.        , ..., 0.        , 0.14305711,\n",
       "        0.        ],\n",
       "       [0.55449459, 0.        , 0.        , ..., 0.        , 0.33973571,\n",
       "        0.        ],\n",
       "       [0.61067576, 0.        , 0.00436893, ..., 0.        , 0.09142125,\n",
       "        0.        ],\n",
       "       ...,\n",
       "       [0.26586828, 0.        , 0.39248473, ..., 0.        , 0.13943227,\n",
       "        0.02329692],\n",
       "       [0.12575423, 0.        , 0.        , ..., 0.        , 0.33026219,\n",
       "        0.04448137],\n",
       "       [0.13357433, 0.        , 0.29418989, ..., 0.        , 0.25345766,\n",
       "        0.02207589]])"
      ]
     },
     "execution_count": 266,
     "metadata": {},
     "output_type": "execute_result"
    }
   ],
   "source": [
    "doctopic"
   ]
  },
  {
   "cell_type": "code",
   "execution_count": 280,
   "metadata": {
    "collapsed": true
   },
   "outputs": [],
   "source": [
    "df_best_products = df_new.loc[df_new['asin']=='B000GIPJY8']\n",
    "best_products = df_best_products['pos_neg'].groupby(df_best_products['asin']).count()"
   ]
  },
  {
   "cell_type": "code",
   "execution_count": 281,
   "metadata": {},
   "outputs": [
    {
     "name": "stdout",
     "output_type": "stream",
     "text": [
      "Number of total features: 3129\n"
     ]
    }
   ],
   "source": [
    "vectorizer_best = TfidfVectorizer()\n",
    "best_text = vectorizer_best.fit_transform(df_best_products['text_comb'])\n",
    "best_feature_names = vectorizer_best.get_feature_names()\n",
    "print(\"Number of total features: {}\".format(len(best_feature_names)))"
   ]
  },
  {
   "cell_type": "code",
   "execution_count": 470,
   "metadata": {
    "scrolled": true
   },
   "outputs": [
    {
     "data": {
      "text/plain": [
       "[['protein',\n",
       "  'whey',\n",
       "  'best',\n",
       "  'powder',\n",
       "  'gold',\n",
       "  'standard',\n",
       "  'one',\n",
       "  'optimum',\n",
       "  'year',\n",
       "  'quality',\n",
       "  'brand',\n",
       "  'product',\n",
       "  'nutrition',\n",
       "  'tried',\n",
       "  'market'],\n",
       " ['chocolate',\n",
       "  'milk',\n",
       "  'like',\n",
       "  'flavor',\n",
       "  'taste',\n",
       "  'water',\n",
       "  'double',\n",
       "  'rich',\n",
       "  'mix',\n",
       "  'vanilla',\n",
       "  'strawberry',\n",
       "  'favorite',\n",
       "  'drink',\n",
       "  'powder',\n",
       "  'really'],\n",
       " ['good',\n",
       "  'taste',\n",
       "  'price',\n",
       "  'pretty',\n",
       "  'well',\n",
       "  'mix',\n",
       "  'quality',\n",
       "  'protein',\n",
       "  'better',\n",
       "  'product',\n",
       "  'dissolve',\n",
       "  'really',\n",
       "  'value',\n",
       "  'buy',\n",
       "  'one'],\n",
       " ['great',\n",
       "  'workout',\n",
       "  'taste',\n",
       "  'mix',\n",
       "  'product',\n",
       "  'love',\n",
       "  'well',\n",
       "  'stuff',\n",
       "  'post',\n",
       "  'milk',\n",
       "  'use',\n",
       "  'value',\n",
       "  'need',\n",
       "  'muscle',\n",
       "  'price']]"
      ]
     },
     "execution_count": 470,
     "metadata": {},
     "output_type": "execute_result"
    }
   ],
   "source": [
    "best_num_topics = 4\n",
    "best_num_top_words = 15\n",
    "best_nmf = decomposition.NMF(n_components=best_num_topics, random_state=1)\n",
    "\n",
    "best_doctopic = best_nmf.fit_transform(best_text.toarray())\n",
    "\n",
    "best_vocab = np.array(best_feature_names)\n",
    "\n",
    "best_topic_words = []\n",
    "\n",
    "for topic in best_nmf.components_:\n",
    "    best_word_idx = np.argsort(topic)[::-1][0:best_num_top_words]\n",
    "    best_topic_words.append([best_vocab[i] for i in best_word_idx])\n",
    "    \n",
    "best_topic_words"
   ]
  },
  {
   "cell_type": "code",
   "execution_count": 486,
   "metadata": {
    "collapsed": true
   },
   "outputs": [],
   "source": [
    "df_worse_products = df_new.loc[df_new['asin']=='B000GP1O4U']\n",
    "worse_products = df_worse_products['pos_neg'].groupby(df_worse_products['asin']).count()"
   ]
  },
  {
   "cell_type": "code",
   "execution_count": 498,
   "metadata": {},
   "outputs": [
    {
     "data": {
      "text/plain": [
       "['highly overpriced bad little first aid kit kind thing might want keep desk car ok small group individual minor problem major emergency larger group inadequate supply needed really serious emergency know manufacturer came idea people kind kit would look dollar store think highly overpiced would pay four five dollar kit like say worth theyre asking']"
      ]
     },
     "execution_count": 498,
     "metadata": {},
     "output_type": "execute_result"
    }
   ],
   "source": [
    "list(df_worse_products['text_comb'][:1])"
   ]
  },
  {
   "cell_type": "code",
   "execution_count": 501,
   "metadata": {},
   "outputs": [
    {
     "data": {
      "text/plain": [
       "['really people opened box quickly doubletake tiny plastic container really socalled physician care office first aid kit people really twentyfive people long back website looking number similarly bemused occasionally hilarious review people like find little plastic kit little well lacking every regardin short overpriced kit might find somewhat useful car truck especially little kid prone getting small easily cleaned booboos beyond product offer virtually nothing get 50count little alcohol pad small bandage couple packet cream gauze pad inexplicably deal mountain surgical supply get tiny little tweezer scissors wait ten pair rubber glove cannot even imagine sort injury problem people might considered kit one warned much better first aid kit market mean actual first aid kit']"
      ]
     },
     "execution_count": 501,
     "metadata": {},
     "output_type": "execute_result"
    }
   ],
   "source": [
    "list(df_worse_products['text_comb'][1:2])"
   ]
  },
  {
   "cell_type": "code",
   "execution_count": 487,
   "metadata": {},
   "outputs": [
    {
     "name": "stdout",
     "output_type": "stream",
     "text": [
      "Number of total features: 2181\n"
     ]
    }
   ],
   "source": [
    "vectorizer_worse = TfidfVectorizer()\n",
    "worse_text = vectorizer_worse.fit_transform(df_worse_products['text_comb'])\n",
    "worse_feature_names = vectorizer_worse.get_feature_names()\n",
    "print(\"Number of total features: {}\".format(len(worse_feature_names)))"
   ]
  },
  {
   "cell_type": "code",
   "execution_count": 488,
   "metadata": {},
   "outputs": [
    {
     "data": {
      "text/plain": [
       "[['kit',\n",
       "  'bandage',\n",
       "  'pad',\n",
       "  'first',\n",
       "  'aid',\n",
       "  'piece',\n",
       "  'packet',\n",
       "  'latex',\n",
       "  'small',\n",
       "  'glove',\n",
       "  'gauze',\n",
       "  'alcohol',\n",
       "  'burn',\n",
       "  'pack',\n",
       "  'pair'],\n",
       " ['kit',\n",
       "  'aid',\n",
       "  'first',\n",
       "  'office',\n",
       "  'car',\n",
       "  'minor',\n",
       "  'emergency',\n",
       "  'item',\n",
       "  'basic',\n",
       "  'need',\n",
       "  'handy',\n",
       "  'great',\n",
       "  'people',\n",
       "  'needed',\n",
       "  'product'],\n",
       " ['box',\n",
       "  'price',\n",
       "  'would',\n",
       "  'cheap',\n",
       "  'kit',\n",
       "  'could',\n",
       "  'plastic',\n",
       "  'buy',\n",
       "  'aid',\n",
       "  'bandaids',\n",
       "  'quality',\n",
       "  'time',\n",
       "  'really',\n",
       "  'case',\n",
       "  'money'],\n",
       " ['cm',\n",
       "  'least',\n",
       "  'workplace',\n",
       "  'bandage',\n",
       "  'cmone',\n",
       "  'sq',\n",
       "  'fl',\n",
       "  'inch',\n",
       "  'kit',\n",
       "  'adhesive',\n",
       "  'osha',\n",
       "  'triangular',\n",
       "  'ansi',\n",
       "  'requirement',\n",
       "  'compress']]"
      ]
     },
     "execution_count": 488,
     "metadata": {},
     "output_type": "execute_result"
    }
   ],
   "source": [
    "worse_num_topics = 4\n",
    "worse_num_top_words = 15\n",
    "worse_nmf = decomposition.NMF(n_components=worse_num_topics, random_state=1)\n",
    "\n",
    "worse_doctopic = worse_nmf.fit_transform(worse_text.toarray())\n",
    "\n",
    "worse_vocab = np.array(worse_feature_names)\n",
    "\n",
    "worse_topic_words = []\n",
    "\n",
    "for topic in worse_nmf.components_:\n",
    "    worse_word_idx = np.argsort(topic)[::-1][0:worse_num_top_words]\n",
    "    worse_topic_words.append([worse_vocab[i] for i in worse_word_idx])\n",
    "    \n",
    "worse_topic_words"
   ]
  },
  {
   "cell_type": "markdown",
   "metadata": {
    "collapsed": true
   },
   "source": [
    "## Summary  & Recommendations\n"
   ]
  },
  {
   "cell_type": "code",
   "execution_count": null,
   "metadata": {
    "collapsed": true
   },
   "outputs": [],
   "source": []
  }
 ],
 "metadata": {
  "kernelspec": {
   "display_name": "Python 3",
   "language": "python",
   "name": "python3"
  },
  "language_info": {
   "codemirror_mode": {
    "name": "ipython",
    "version": 3
   },
   "file_extension": ".py",
   "mimetype": "text/x-python",
   "name": "python",
   "nbconvert_exporter": "python",
   "pygments_lexer": "ipython3",
   "version": "3.6.3"
  }
 },
 "nbformat": 4,
 "nbformat_minor": 2
}
